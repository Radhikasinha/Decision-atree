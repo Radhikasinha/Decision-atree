{
 "cells": [
  {
   "cell_type": "code",
   "execution_count": 4,
   "metadata": {},
   "outputs": [],
   "source": [
    "import pandas as pd\n",
    "import numpy as np\n",
    "import matplotlib.pyplot as plt\n",
    "from sklearn.tree import DecisionTreeClassifier"
   ]
  },
  {
   "cell_type": "code",
   "execution_count": 5,
   "metadata": {},
   "outputs": [],
   "source": [
    "df = pd.read_csv(\"C:/Users/radhi/Desktop/IDA/Homework2/HW2-Synth-Data.csv\", header=None)"
   ]
  },
  {
   "cell_type": "code",
   "execution_count": 6,
   "metadata": {},
   "outputs": [
    {
     "data": {
      "text/html": [
       "<div>\n",
       "<style scoped>\n",
       "    .dataframe tbody tr th:only-of-type {\n",
       "        vertical-align: middle;\n",
       "    }\n",
       "\n",
       "    .dataframe tbody tr th {\n",
       "        vertical-align: top;\n",
       "    }\n",
       "\n",
       "    .dataframe thead th {\n",
       "        text-align: right;\n",
       "    }\n",
       "</style>\n",
       "<table border=\"1\" class=\"dataframe\">\n",
       "  <thead>\n",
       "    <tr style=\"text-align: right;\">\n",
       "      <th></th>\n",
       "      <th>0</th>\n",
       "      <th>1</th>\n",
       "      <th>2</th>\n",
       "    </tr>\n",
       "  </thead>\n",
       "  <tbody>\n",
       "    <tr>\n",
       "      <th>0</th>\n",
       "      <td>3.510076</td>\n",
       "      <td>-5.075235</td>\n",
       "      <td>0</td>\n",
       "    </tr>\n",
       "    <tr>\n",
       "      <th>1</th>\n",
       "      <td>4.739776</td>\n",
       "      <td>-4.199721</td>\n",
       "      <td>0</td>\n",
       "    </tr>\n",
       "    <tr>\n",
       "      <th>2</th>\n",
       "      <td>0.857070</td>\n",
       "      <td>-6.376872</td>\n",
       "      <td>0</td>\n",
       "    </tr>\n",
       "    <tr>\n",
       "      <th>3</th>\n",
       "      <td>3.817929</td>\n",
       "      <td>-5.025759</td>\n",
       "      <td>0</td>\n",
       "    </tr>\n",
       "    <tr>\n",
       "      <th>4</th>\n",
       "      <td>3.302407</td>\n",
       "      <td>-4.867991</td>\n",
       "      <td>0</td>\n",
       "    </tr>\n",
       "    <tr>\n",
       "      <th>5</th>\n",
       "      <td>1.759418</td>\n",
       "      <td>-5.015558</td>\n",
       "      <td>0</td>\n",
       "    </tr>\n",
       "    <tr>\n",
       "      <th>6</th>\n",
       "      <td>2.588658</td>\n",
       "      <td>-5.451896</td>\n",
       "      <td>0</td>\n",
       "    </tr>\n",
       "    <tr>\n",
       "      <th>7</th>\n",
       "      <td>3.325042</td>\n",
       "      <td>-4.725702</td>\n",
       "      <td>0</td>\n",
       "    </tr>\n",
       "    <tr>\n",
       "      <th>8</th>\n",
       "      <td>6.394765</td>\n",
       "      <td>-3.570080</td>\n",
       "      <td>0</td>\n",
       "    </tr>\n",
       "    <tr>\n",
       "      <th>9</th>\n",
       "      <td>5.627319</td>\n",
       "      <td>-3.441672</td>\n",
       "      <td>0</td>\n",
       "    </tr>\n",
       "    <tr>\n",
       "      <th>10</th>\n",
       "      <td>1.719385</td>\n",
       "      <td>-5.949902</td>\n",
       "      <td>0</td>\n",
       "    </tr>\n",
       "    <tr>\n",
       "      <th>11</th>\n",
       "      <td>5.879181</td>\n",
       "      <td>-3.708982</td>\n",
       "      <td>0</td>\n",
       "    </tr>\n",
       "    <tr>\n",
       "      <th>12</th>\n",
       "      <td>3.688179</td>\n",
       "      <td>-4.500978</td>\n",
       "      <td>0</td>\n",
       "    </tr>\n",
       "    <tr>\n",
       "      <th>13</th>\n",
       "      <td>2.940181</td>\n",
       "      <td>-4.641810</td>\n",
       "      <td>0</td>\n",
       "    </tr>\n",
       "    <tr>\n",
       "      <th>14</th>\n",
       "      <td>3.678065</td>\n",
       "      <td>-4.158777</td>\n",
       "      <td>0</td>\n",
       "    </tr>\n",
       "    <tr>\n",
       "      <th>15</th>\n",
       "      <td>2.805552</td>\n",
       "      <td>-5.056380</td>\n",
       "      <td>0</td>\n",
       "    </tr>\n",
       "    <tr>\n",
       "      <th>16</th>\n",
       "      <td>2.882226</td>\n",
       "      <td>-5.573808</td>\n",
       "      <td>0</td>\n",
       "    </tr>\n",
       "    <tr>\n",
       "      <th>17</th>\n",
       "      <td>4.413251</td>\n",
       "      <td>-4.631399</td>\n",
       "      <td>0</td>\n",
       "    </tr>\n",
       "    <tr>\n",
       "      <th>18</th>\n",
       "      <td>4.336727</td>\n",
       "      <td>-4.777031</td>\n",
       "      <td>0</td>\n",
       "    </tr>\n",
       "    <tr>\n",
       "      <th>19</th>\n",
       "      <td>4.344467</td>\n",
       "      <td>-3.580732</td>\n",
       "      <td>0</td>\n",
       "    </tr>\n",
       "    <tr>\n",
       "      <th>20</th>\n",
       "      <td>3.637038</td>\n",
       "      <td>-4.932088</td>\n",
       "      <td>0</td>\n",
       "    </tr>\n",
       "    <tr>\n",
       "      <th>21</th>\n",
       "      <td>1.854477</td>\n",
       "      <td>-5.247591</td>\n",
       "      <td>0</td>\n",
       "    </tr>\n",
       "    <tr>\n",
       "      <th>22</th>\n",
       "      <td>3.680432</td>\n",
       "      <td>-4.764856</td>\n",
       "      <td>0</td>\n",
       "    </tr>\n",
       "    <tr>\n",
       "      <th>23</th>\n",
       "      <td>4.546577</td>\n",
       "      <td>-4.001972</td>\n",
       "      <td>0</td>\n",
       "    </tr>\n",
       "    <tr>\n",
       "      <th>24</th>\n",
       "      <td>3.463805</td>\n",
       "      <td>-5.061258</td>\n",
       "      <td>0</td>\n",
       "    </tr>\n",
       "    <tr>\n",
       "      <th>25</th>\n",
       "      <td>3.981596</td>\n",
       "      <td>-5.053972</td>\n",
       "      <td>0</td>\n",
       "    </tr>\n",
       "    <tr>\n",
       "      <th>26</th>\n",
       "      <td>3.689584</td>\n",
       "      <td>-5.190785</td>\n",
       "      <td>0</td>\n",
       "    </tr>\n",
       "    <tr>\n",
       "      <th>27</th>\n",
       "      <td>2.712131</td>\n",
       "      <td>-4.957268</td>\n",
       "      <td>0</td>\n",
       "    </tr>\n",
       "    <tr>\n",
       "      <th>28</th>\n",
       "      <td>3.278791</td>\n",
       "      <td>-4.938104</td>\n",
       "      <td>0</td>\n",
       "    </tr>\n",
       "    <tr>\n",
       "      <th>29</th>\n",
       "      <td>2.253118</td>\n",
       "      <td>-5.400488</td>\n",
       "      <td>0</td>\n",
       "    </tr>\n",
       "    <tr>\n",
       "      <th>...</th>\n",
       "      <td>...</td>\n",
       "      <td>...</td>\n",
       "      <td>...</td>\n",
       "    </tr>\n",
       "    <tr>\n",
       "      <th>420</th>\n",
       "      <td>16.091446</td>\n",
       "      <td>-7.886390</td>\n",
       "      <td>0</td>\n",
       "    </tr>\n",
       "    <tr>\n",
       "      <th>421</th>\n",
       "      <td>15.212148</td>\n",
       "      <td>-8.566418</td>\n",
       "      <td>0</td>\n",
       "    </tr>\n",
       "    <tr>\n",
       "      <th>422</th>\n",
       "      <td>15.665824</td>\n",
       "      <td>-7.969520</td>\n",
       "      <td>0</td>\n",
       "    </tr>\n",
       "    <tr>\n",
       "      <th>423</th>\n",
       "      <td>15.834194</td>\n",
       "      <td>-8.069722</td>\n",
       "      <td>0</td>\n",
       "    </tr>\n",
       "    <tr>\n",
       "      <th>424</th>\n",
       "      <td>15.544012</td>\n",
       "      <td>-8.218040</td>\n",
       "      <td>0</td>\n",
       "    </tr>\n",
       "    <tr>\n",
       "      <th>425</th>\n",
       "      <td>16.793893</td>\n",
       "      <td>-6.616147</td>\n",
       "      <td>0</td>\n",
       "    </tr>\n",
       "    <tr>\n",
       "      <th>426</th>\n",
       "      <td>18.408090</td>\n",
       "      <td>-7.150004</td>\n",
       "      <td>0</td>\n",
       "    </tr>\n",
       "    <tr>\n",
       "      <th>427</th>\n",
       "      <td>14.744575</td>\n",
       "      <td>-8.574356</td>\n",
       "      <td>0</td>\n",
       "    </tr>\n",
       "    <tr>\n",
       "      <th>428</th>\n",
       "      <td>16.121754</td>\n",
       "      <td>-7.007893</td>\n",
       "      <td>0</td>\n",
       "    </tr>\n",
       "    <tr>\n",
       "      <th>429</th>\n",
       "      <td>14.631639</td>\n",
       "      <td>-9.009047</td>\n",
       "      <td>0</td>\n",
       "    </tr>\n",
       "    <tr>\n",
       "      <th>430</th>\n",
       "      <td>17.235668</td>\n",
       "      <td>-7.257484</td>\n",
       "      <td>0</td>\n",
       "    </tr>\n",
       "    <tr>\n",
       "      <th>431</th>\n",
       "      <td>17.337559</td>\n",
       "      <td>-7.781862</td>\n",
       "      <td>0</td>\n",
       "    </tr>\n",
       "    <tr>\n",
       "      <th>432</th>\n",
       "      <td>14.422773</td>\n",
       "      <td>-8.340675</td>\n",
       "      <td>0</td>\n",
       "    </tr>\n",
       "    <tr>\n",
       "      <th>433</th>\n",
       "      <td>17.843941</td>\n",
       "      <td>-7.065965</td>\n",
       "      <td>0</td>\n",
       "    </tr>\n",
       "    <tr>\n",
       "      <th>434</th>\n",
       "      <td>14.970965</td>\n",
       "      <td>-8.229364</td>\n",
       "      <td>0</td>\n",
       "    </tr>\n",
       "    <tr>\n",
       "      <th>435</th>\n",
       "      <td>16.215179</td>\n",
       "      <td>-8.001855</td>\n",
       "      <td>0</td>\n",
       "    </tr>\n",
       "    <tr>\n",
       "      <th>436</th>\n",
       "      <td>17.042536</td>\n",
       "      <td>-7.450931</td>\n",
       "      <td>0</td>\n",
       "    </tr>\n",
       "    <tr>\n",
       "      <th>437</th>\n",
       "      <td>16.139636</td>\n",
       "      <td>-7.423145</td>\n",
       "      <td>0</td>\n",
       "    </tr>\n",
       "    <tr>\n",
       "      <th>438</th>\n",
       "      <td>18.177860</td>\n",
       "      <td>-7.827445</td>\n",
       "      <td>0</td>\n",
       "    </tr>\n",
       "    <tr>\n",
       "      <th>439</th>\n",
       "      <td>18.611306</td>\n",
       "      <td>-7.410423</td>\n",
       "      <td>0</td>\n",
       "    </tr>\n",
       "    <tr>\n",
       "      <th>440</th>\n",
       "      <td>16.131220</td>\n",
       "      <td>-7.796431</td>\n",
       "      <td>0</td>\n",
       "    </tr>\n",
       "    <tr>\n",
       "      <th>441</th>\n",
       "      <td>14.190798</td>\n",
       "      <td>-9.032999</td>\n",
       "      <td>0</td>\n",
       "    </tr>\n",
       "    <tr>\n",
       "      <th>442</th>\n",
       "      <td>15.653737</td>\n",
       "      <td>-8.257499</td>\n",
       "      <td>0</td>\n",
       "    </tr>\n",
       "    <tr>\n",
       "      <th>443</th>\n",
       "      <td>15.195412</td>\n",
       "      <td>-8.880922</td>\n",
       "      <td>0</td>\n",
       "    </tr>\n",
       "    <tr>\n",
       "      <th>444</th>\n",
       "      <td>15.274491</td>\n",
       "      <td>-8.638781</td>\n",
       "      <td>0</td>\n",
       "    </tr>\n",
       "    <tr>\n",
       "      <th>445</th>\n",
       "      <td>14.930175</td>\n",
       "      <td>-8.616781</td>\n",
       "      <td>0</td>\n",
       "    </tr>\n",
       "    <tr>\n",
       "      <th>446</th>\n",
       "      <td>16.074177</td>\n",
       "      <td>-8.220774</td>\n",
       "      <td>0</td>\n",
       "    </tr>\n",
       "    <tr>\n",
       "      <th>447</th>\n",
       "      <td>17.998524</td>\n",
       "      <td>-7.414693</td>\n",
       "      <td>0</td>\n",
       "    </tr>\n",
       "    <tr>\n",
       "      <th>448</th>\n",
       "      <td>15.320888</td>\n",
       "      <td>-8.449307</td>\n",
       "      <td>0</td>\n",
       "    </tr>\n",
       "    <tr>\n",
       "      <th>449</th>\n",
       "      <td>15.733879</td>\n",
       "      <td>-8.447835</td>\n",
       "      <td>0</td>\n",
       "    </tr>\n",
       "  </tbody>\n",
       "</table>\n",
       "<p>450 rows × 3 columns</p>\n",
       "</div>"
      ],
      "text/plain": [
       "             0         1  2\n",
       "0     3.510076 -5.075235  0\n",
       "1     4.739776 -4.199721  0\n",
       "2     0.857070 -6.376872  0\n",
       "3     3.817929 -5.025759  0\n",
       "4     3.302407 -4.867991  0\n",
       "5     1.759418 -5.015558  0\n",
       "6     2.588658 -5.451896  0\n",
       "7     3.325042 -4.725702  0\n",
       "8     6.394765 -3.570080  0\n",
       "9     5.627319 -3.441672  0\n",
       "10    1.719385 -5.949902  0\n",
       "11    5.879181 -3.708982  0\n",
       "12    3.688179 -4.500978  0\n",
       "13    2.940181 -4.641810  0\n",
       "14    3.678065 -4.158777  0\n",
       "15    2.805552 -5.056380  0\n",
       "16    2.882226 -5.573808  0\n",
       "17    4.413251 -4.631399  0\n",
       "18    4.336727 -4.777031  0\n",
       "19    4.344467 -3.580732  0\n",
       "20    3.637038 -4.932088  0\n",
       "21    1.854477 -5.247591  0\n",
       "22    3.680432 -4.764856  0\n",
       "23    4.546577 -4.001972  0\n",
       "24    3.463805 -5.061258  0\n",
       "25    3.981596 -5.053972  0\n",
       "26    3.689584 -5.190785  0\n",
       "27    2.712131 -4.957268  0\n",
       "28    3.278791 -4.938104  0\n",
       "29    2.253118 -5.400488  0\n",
       "..         ...       ... ..\n",
       "420  16.091446 -7.886390  0\n",
       "421  15.212148 -8.566418  0\n",
       "422  15.665824 -7.969520  0\n",
       "423  15.834194 -8.069722  0\n",
       "424  15.544012 -8.218040  0\n",
       "425  16.793893 -6.616147  0\n",
       "426  18.408090 -7.150004  0\n",
       "427  14.744575 -8.574356  0\n",
       "428  16.121754 -7.007893  0\n",
       "429  14.631639 -9.009047  0\n",
       "430  17.235668 -7.257484  0\n",
       "431  17.337559 -7.781862  0\n",
       "432  14.422773 -8.340675  0\n",
       "433  17.843941 -7.065965  0\n",
       "434  14.970965 -8.229364  0\n",
       "435  16.215179 -8.001855  0\n",
       "436  17.042536 -7.450931  0\n",
       "437  16.139636 -7.423145  0\n",
       "438  18.177860 -7.827445  0\n",
       "439  18.611306 -7.410423  0\n",
       "440  16.131220 -7.796431  0\n",
       "441  14.190798 -9.032999  0\n",
       "442  15.653737 -8.257499  0\n",
       "443  15.195412 -8.880922  0\n",
       "444  15.274491 -8.638781  0\n",
       "445  14.930175 -8.616781  0\n",
       "446  16.074177 -8.220774  0\n",
       "447  17.998524 -7.414693  0\n",
       "448  15.320888 -8.449307  0\n",
       "449  15.733879 -8.447835  0\n",
       "\n",
       "[450 rows x 3 columns]"
      ]
     },
     "execution_count": 6,
     "metadata": {},
     "output_type": "execute_result"
    }
   ],
   "source": [
    "df"
   ]
  },
  {
   "cell_type": "code",
   "execution_count": 7,
   "metadata": {},
   "outputs": [],
   "source": [
    "feature1 = df[0]"
   ]
  },
  {
   "cell_type": "code",
   "execution_count": 8,
   "metadata": {},
   "outputs": [
    {
     "data": {
      "text/plain": [
       "0       3.510076\n",
       "1       4.739776\n",
       "2       0.857070\n",
       "3       3.817929\n",
       "4       3.302407\n",
       "5       1.759418\n",
       "6       2.588658\n",
       "7       3.325042\n",
       "8       6.394765\n",
       "9       5.627319\n",
       "10      1.719385\n",
       "11      5.879181\n",
       "12      3.688179\n",
       "13      2.940181\n",
       "14      3.678065\n",
       "15      2.805552\n",
       "16      2.882226\n",
       "17      4.413251\n",
       "18      4.336727\n",
       "19      4.344467\n",
       "20      3.637038\n",
       "21      1.854477\n",
       "22      3.680432\n",
       "23      4.546577\n",
       "24      3.463805\n",
       "25      3.981596\n",
       "26      3.689584\n",
       "27      2.712131\n",
       "28      3.278791\n",
       "29      2.253118\n",
       "         ...    \n",
       "420    16.091446\n",
       "421    15.212148\n",
       "422    15.665824\n",
       "423    15.834194\n",
       "424    15.544012\n",
       "425    16.793893\n",
       "426    18.408090\n",
       "427    14.744575\n",
       "428    16.121754\n",
       "429    14.631639\n",
       "430    17.235668\n",
       "431    17.337559\n",
       "432    14.422773\n",
       "433    17.843941\n",
       "434    14.970965\n",
       "435    16.215179\n",
       "436    17.042536\n",
       "437    16.139636\n",
       "438    18.177860\n",
       "439    18.611306\n",
       "440    16.131220\n",
       "441    14.190798\n",
       "442    15.653737\n",
       "443    15.195412\n",
       "444    15.274491\n",
       "445    14.930175\n",
       "446    16.074177\n",
       "447    17.998524\n",
       "448    15.320888\n",
       "449    15.733879\n",
       "Name: 0, Length: 450, dtype: float64"
      ]
     },
     "execution_count": 8,
     "metadata": {},
     "output_type": "execute_result"
    }
   ],
   "source": [
    "feature1"
   ]
  },
  {
   "cell_type": "code",
   "execution_count": 9,
   "metadata": {},
   "outputs": [],
   "source": [
    "feature2 = df[1]"
   ]
  },
  {
   "cell_type": "code",
   "execution_count": 10,
   "metadata": {},
   "outputs": [
    {
     "data": {
      "text/plain": [
       "0     -5.075235\n",
       "1     -4.199721\n",
       "2     -6.376872\n",
       "3     -5.025759\n",
       "4     -4.867991\n",
       "5     -5.015558\n",
       "6     -5.451896\n",
       "7     -4.725702\n",
       "8     -3.570080\n",
       "9     -3.441672\n",
       "10    -5.949902\n",
       "11    -3.708982\n",
       "12    -4.500978\n",
       "13    -4.641810\n",
       "14    -4.158777\n",
       "15    -5.056380\n",
       "16    -5.573808\n",
       "17    -4.631399\n",
       "18    -4.777031\n",
       "19    -3.580732\n",
       "20    -4.932088\n",
       "21    -5.247591\n",
       "22    -4.764856\n",
       "23    -4.001972\n",
       "24    -5.061258\n",
       "25    -5.053972\n",
       "26    -5.190785\n",
       "27    -4.957268\n",
       "28    -4.938104\n",
       "29    -5.400488\n",
       "         ...   \n",
       "420   -7.886390\n",
       "421   -8.566418\n",
       "422   -7.969520\n",
       "423   -8.069722\n",
       "424   -8.218040\n",
       "425   -6.616147\n",
       "426   -7.150004\n",
       "427   -8.574356\n",
       "428   -7.007893\n",
       "429   -9.009047\n",
       "430   -7.257484\n",
       "431   -7.781862\n",
       "432   -8.340675\n",
       "433   -7.065965\n",
       "434   -8.229364\n",
       "435   -8.001855\n",
       "436   -7.450931\n",
       "437   -7.423145\n",
       "438   -7.827445\n",
       "439   -7.410423\n",
       "440   -7.796431\n",
       "441   -9.032999\n",
       "442   -8.257499\n",
       "443   -8.880922\n",
       "444   -8.638781\n",
       "445   -8.616781\n",
       "446   -8.220774\n",
       "447   -7.414693\n",
       "448   -8.449307\n",
       "449   -8.447835\n",
       "Name: 1, Length: 450, dtype: float64"
      ]
     },
     "execution_count": 10,
     "metadata": {},
     "output_type": "execute_result"
    }
   ],
   "source": [
    "feature2"
   ]
  },
  {
   "cell_type": "code",
   "execution_count": 11,
   "metadata": {},
   "outputs": [
    {
     "data": {
      "image/png": "[encoded data removed]",
      "text/plain": [
       "<Figure size 720x576 with 1 Axes>"
      ]
     },
     "metadata": {},
     "output_type": "display_data"
    }
   ],
   "source": [
    "x=feature1\n",
    "y=feature2\n",
    "fig = plt.figure(figsize=(10,8))\n",
    "classes = df[2]\n",
    "unique = list(set(classes))\n",
    "colors = [plt.cm.jet(float(i)/max(unique)) for i in unique]\n",
    "for i, u in enumerate(unique):\n",
    "    xi = [x[j] for j  in range(len(x)) if classes[j] == u]\n",
    "    yi = [y[j] for j  in range(len(x)) if classes[j] == u]\n",
    "    plt.scatter(xi, yi, c=colors[i], label=str(u))\n",
    "plt.legend()\n",
    "\n",
    "plt.show()\n",
    "\n",
    "plt.show()\n",
    "#plt.scatter(feature1, feature2, marker='o', c=df[2], label=group)"
   ]
  },
  {
   "cell_type": "code",
   "execution_count": 12,
   "metadata": {},
   "outputs": [],
   "source": [
    "from sklearn.model_selection import KFold\n",
    "kf = KFold(n_splits=5)"
   ]
  },
  {
   "cell_type": "code",
   "execution_count": 13,
   "metadata": {},
   "outputs": [],
   "source": [
    "X=df.values[:,0:2]"
   ]
  },
  {
   "cell_type": "code",
   "execution_count": 14,
   "metadata": {},
   "outputs": [
    {
     "data": {
      "text/plain": [
       "array([[ 3.51007583, -5.0752352 ],\n",
       "       [ 4.73977608, -4.19972122],\n",
       "       [ 0.85706971, -6.37687236],\n",
       "       [ 3.81792943, -5.02575895],\n",
       "       [ 3.30240726, -4.86799132],\n",
       "       [ 1.75941795, -5.01555772],\n",
       "       [ 2.58865849, -5.45189592],\n",
       "       [ 3.32504211, -4.72570171],\n",
       "       [ 6.39476541, -3.57008035],\n",
       "       [ 5.62731865, -3.44167182],\n",
       "       [ 1.71938481, -5.9499024 ],\n",
       "       [ 5.8791812 , -3.70898172],\n",
       "       [ 3.68817887, -4.50097765],\n",
       "       [ 2.9401809 , -4.64180969],\n",
       "       [ 3.67806466, -4.1587769 ],\n",
       "       [ 2.80555212, -5.0563795 ],\n",
       "       [ 2.88222633, -5.57380822],\n",
       "       [ 4.41325124, -4.63139925],\n",
       "       [ 4.33672749, -4.777031  ],\n",
       "       [ 4.34446677, -3.58073243],\n",
       "       [ 3.63703812, -4.93208818],\n",
       "       [ 1.85447732, -5.24759134],\n",
       "       [ 3.68043233, -4.76485571],\n",
       "       [ 4.54657699, -4.00197162],\n",
       "       [ 3.46380535, -5.06125784],\n",
       "       [ 3.98159598, -5.05397249],\n",
       "       [ 3.68958379, -5.19078514],\n",
       "       [ 2.71213066, -4.9572679 ],\n",
       "       [ 3.27879095, -4.93810379],\n",
       "       [ 2.25311795, -5.40048845],\n",
       "       [ 3.8428061 , -4.1292245 ],\n",
       "       [ 1.91179375, -5.38170847],\n",
       "       [ 1.98598045, -5.38152003],\n",
       "       [ 2.23204211, -4.78625033],\n",
       "       [ 0.20680679, -6.52266287],\n",
       "       [ 4.36456736, -4.14998367],\n",
       "       [ 3.30850283, -4.57093834],\n",
       "       [ 2.28381211, -5.40350926],\n",
       "       [ 4.29997934, -4.34683251],\n",
       "       [ 1.37631296, -6.12922116],\n",
       "       [ 2.9030043 , -5.44443688],\n",
       "       [ 2.77094322, -5.0651385 ],\n",
       "       [ 3.3028261 , -4.61290848],\n",
       "       [ 3.29680373, -3.96419187],\n",
       "       [ 2.17950287, -5.59781234],\n",
       "       [ 2.97149084, -4.94717926],\n",
       "       [ 2.84358203, -5.09835939],\n",
       "       [ 3.59549542, -5.41112588],\n",
       "       [ 4.03716288, -4.69250258],\n",
       "       [ 4.05234905, -5.15971433],\n",
       "       [ 8.79725023,  0.53614798],\n",
       "       [ 7.15753879, -0.381429  ],\n",
       "       [ 8.0949564 ,  0.03004677],\n",
       "       [ 7.4834145 , -0.5086339 ],\n",
       "       [ 8.28794511,  0.48411098],\n",
       "       [ 7.43048022, -0.29969313],\n",
       "       [ 8.46482192, -0.04321433],\n",
       "       [ 8.70142145,  0.78419132],\n",
       "       [ 9.62403935,  0.64321464],\n",
       "       [ 7.81583824, -0.28777596],\n",
       "       [ 5.97137807, -1.00430687],\n",
       "       [ 7.20349618, -0.65043921],\n",
       "       [ 9.28508101,  0.17954696],\n",
       "       [ 6.98286419,  0.43103658],\n",
       "       [ 8.91164089,  0.98394057],\n",
       "       [ 8.11768397,  0.15981919],\n",
       "       [ 9.36297009,  0.1662722 ],\n",
       "       [ 6.13972692, -1.12935821],\n",
       "       [ 7.812447  , -0.14507374],\n",
       "       [ 6.85413716, -0.23259098],\n",
       "       [10.75877865,  0.76045117],\n",
       "       [ 8.78287138, -0.46658559],\n",
       "       [ 9.30820768,  0.07481695],\n",
       "       [ 6.99612206, -0.3295716 ],\n",
       "       [ 7.55543222, -0.0607673 ],\n",
       "       [ 7.74151282,  0.04302527],\n",
       "       [ 9.04205709,  0.41758859],\n",
       "       [ 7.73638754, -0.05294284],\n",
       "       [ 8.66554066,  0.12933135],\n",
       "       [ 6.05347615, -0.56375641],\n",
       "       [ 7.66430842, -0.62524866],\n",
       "       [ 7.21867722, -0.18817489],\n",
       "       [ 6.50387234, -0.96165693],\n",
       "       [ 8.48190707,  0.09710346],\n",
       "       [ 8.26751357,  0.31214961],\n",
       "       [ 8.03176181,  0.37738552],\n",
       "       [ 6.73476201, -0.95305778],\n",
       "       [ 9.06963309,  0.91612249],\n",
       "       [ 8.33220936,  0.37843659],\n",
       "       [ 7.71628105, -0.14982331],\n",
       "       [ 8.02171516, -0.05859872],\n",
       "       [ 7.75144931, -0.1865428 ],\n",
       "       [ 6.33960276, -0.84392165],\n",
       "       [ 7.72900769, -0.11238421],\n",
       "       [ 7.21129648, -0.33260364],\n",
       "       [ 7.07104333, -0.12407564],\n",
       "       [ 6.90294106,  0.0462538 ],\n",
       "       [ 7.49382328, -0.06173277],\n",
       "       [ 6.10013292, -0.91770177],\n",
       "       [ 8.91474835,  0.62512321],\n",
       "       [12.17382464, -2.17941229],\n",
       "       [11.02307673, -2.44496069],\n",
       "       [12.9005109 , -1.51854373],\n",
       "       [12.29130451, -1.72146498],\n",
       "       [12.12823821, -2.07334028],\n",
       "       [12.48880559, -1.86541829],\n",
       "       [12.24799181, -1.18229311],\n",
       "       [11.10682817, -3.18649247],\n",
       "       [11.84599296, -1.28902679],\n",
       "       [11.86144041, -1.94356878],\n",
       "       [11.49528969, -1.87469148],\n",
       "       [13.59578359, -1.87255966],\n",
       "       [11.1692102 , -2.57551774],\n",
       "       [11.54101274, -2.30120639],\n",
       "       [11.32453318, -2.15242483],\n",
       "       [10.88604437, -3.07899848],\n",
       "       [11.81762558, -1.91617055],\n",
       "       [11.73999415, -2.53957311],\n",
       "       [13.45155424, -1.33172455],\n",
       "       [11.76375439, -1.87693251],\n",
       "       [10.99039851, -2.33437064],\n",
       "       [13.52117316, -0.94543117],\n",
       "       [13.17131949, -1.12768604],\n",
       "       [11.78215722, -2.32437828],\n",
       "       [10.57113144, -2.5451851 ],\n",
       "       [11.57818902, -2.51762882],\n",
       "       [11.85206134, -2.52785168],\n",
       "       [12.26190134, -1.56027753],\n",
       "       [11.75223841, -2.11009883],\n",
       "       [12.42066696, -1.83223672],\n",
       "       [12.37178349, -1.51623011],\n",
       "       [10.81350181, -2.31946431],\n",
       "       [11.10068531, -2.27726406],\n",
       "       [11.29692503, -1.87538625],\n",
       "       [11.51824197, -1.88905754],\n",
       "       [11.69587537, -2.05134456],\n",
       "       [12.01182917, -2.23609487],\n",
       "       [ 9.12627005, -3.50499839],\n",
       "       [11.56643784, -1.77593196],\n",
       "       [13.17869005, -2.03963841],\n",
       "       [10.9880382 , -2.45831277],\n",
       "       [12.88581231, -2.28762836],\n",
       "       [12.33234368, -1.49552258],\n",
       "       [11.97248272, -1.71097134],\n",
       "       [12.17308932, -1.92266514],\n",
       "       [10.5152575 , -2.68465045],\n",
       "       [11.91979881, -2.90485717],\n",
       "       [13.52163711, -1.12053728],\n",
       "       [12.09330089, -2.72501465],\n",
       "       [12.03925046, -2.79338259],\n",
       "       [ 7.45144099, -5.28893464],\n",
       "       [ 8.33976156, -4.68784943],\n",
       "       [ 7.02144829, -5.94834006],\n",
       "       [ 6.95458709, -6.36625604],\n",
       "       [ 8.61402777, -4.86390988],\n",
       "       [ 6.51644501, -6.42210769],\n",
       "       [ 6.99729155, -6.1654505 ],\n",
       "       [ 7.87266253, -5.30226984],\n",
       "       [ 7.14212104, -6.42111202],\n",
       "       [ 8.33283689, -6.091715  ],\n",
       "       [ 7.98105383, -5.41690381],\n",
       "       [ 7.27660786, -5.73696399],\n",
       "       [ 6.26221039, -6.29464452],\n",
       "       [ 7.53761512, -5.58741762],\n",
       "       [ 5.6883304 , -6.20460976],\n",
       "       [ 7.23192904, -5.55764902],\n",
       "       [ 7.76695239, -5.85790587],\n",
       "       [ 7.2021091 , -5.62700511],\n",
       "       [ 7.83453503, -5.56852775],\n",
       "       [ 8.93424785, -5.31707346],\n",
       "       [ 7.87651928, -6.0276191 ],\n",
       "       [ 7.25322012, -5.66127477],\n",
       "       [ 7.60873355, -5.85307926],\n",
       "       [ 7.40365085, -5.80436597],\n",
       "       [ 5.75274377, -6.83155289],\n",
       "       [ 6.60495763, -6.71763882],\n",
       "       [ 8.16184089, -5.42363918],\n",
       "       [ 6.95865239, -6.04010074],\n",
       "       [ 7.55253524, -5.3352451 ],\n",
       "       [ 6.04515019, -6.14409959],\n",
       "       [ 7.06120596, -5.60455896],\n",
       "       [ 7.56948695, -6.00870421],\n",
       "       [ 5.7083535 , -6.90140762],\n",
       "       [ 7.32975532, -6.29711856],\n",
       "       [ 6.82748838, -5.90257634],\n",
       "       [ 6.10867906, -5.42107165],\n",
       "       [ 6.96439289, -5.76146405],\n",
       "       [ 5.2010076 , -7.06981767],\n",
       "       [ 4.98122398, -6.60474416],\n",
       "       [ 5.88347249, -6.89070205],\n",
       "       [ 6.06029863, -6.915644  ],\n",
       "       [ 5.88716382, -6.24377391],\n",
       "       [ 5.36311547, -6.9994623 ],\n",
       "       [ 7.27343717, -5.76800277],\n",
       "       [ 5.48762453, -6.18043804],\n",
       "       [ 7.10456278, -5.8132933 ],\n",
       "       [ 7.74667701, -5.34313157],\n",
       "       [ 6.99788748, -6.56233208],\n",
       "       [ 7.08833073, -5.72946688],\n",
       "       [ 6.64124872, -5.41181832],\n",
       "       [ 5.59340994, -6.4359672 ],\n",
       "       [ 6.95843004, -6.55717074],\n",
       "       [ 7.91151883, -5.66589984],\n",
       "       [ 8.64904393, -5.4418809 ],\n",
       "       [ 6.59187052, -6.04748459],\n",
       "       [ 5.4561861 , -6.54209073],\n",
       "       [ 7.15781109, -5.78810035],\n",
       "       [ 7.35695718, -5.96853119],\n",
       "       [ 6.78469588, -6.30519799],\n",
       "       [ 5.9100461 , -6.69054601],\n",
       "       [ 8.92045053, -4.84806604],\n",
       "       [ 4.76155945, -7.64267955],\n",
       "       [ 6.51619804, -6.28749689],\n",
       "       [ 5.74619588, -6.46272126],\n",
       "       [ 6.39651575, -6.49642589],\n",
       "       [ 7.30154033, -5.69914201],\n",
       "       [ 7.13096381, -5.96672742],\n",
       "       [ 6.32573751, -6.62770512],\n",
       "       [ 7.73713027, -5.61597338],\n",
       "       [ 7.59045472, -5.83133321],\n",
       "       [ 7.61415943, -5.87033294],\n",
       "       [ 6.59621033, -6.42814259],\n",
       "       [ 7.99477105, -5.53639801],\n",
       "       [ 7.62680178, -6.36683366],\n",
       "       [ 9.38003054, -5.08146708],\n",
       "       [ 8.0088864 , -5.74163207],\n",
       "       [ 8.09755225, -5.83100141],\n",
       "       [ 7.05026013, -5.74947681],\n",
       "       [ 5.77772972, -6.79993463],\n",
       "       [ 6.6478286 , -5.9675137 ],\n",
       "       [ 6.28109546, -5.97835628],\n",
       "       [ 6.46497211, -6.29263253],\n",
       "       [ 7.52665068, -5.66881357],\n",
       "       [ 6.47179395, -6.01118111],\n",
       "       [ 6.15082112, -6.40572299],\n",
       "       [ 6.61167763, -5.98349792],\n",
       "       [ 6.84736941, -6.50923221],\n",
       "       [ 7.38832874, -5.439202  ],\n",
       "       [ 6.09625014, -6.74762063],\n",
       "       [ 7.30103379, -6.50557364],\n",
       "       [ 7.07401635, -5.48307908],\n",
       "       [ 8.25642236, -5.46351954],\n",
       "       [ 6.79776872, -5.93293642],\n",
       "       [ 6.87242236, -6.18369741],\n",
       "       [ 5.8887543 , -6.85068594],\n",
       "       [ 5.68582443, -7.65840389],\n",
       "       [ 7.29457406, -5.65012921],\n",
       "       [ 6.76331389, -6.20541958],\n",
       "       [ 7.47789357, -5.85659452],\n",
       "       [ 6.15314704, -6.23457826],\n",
       "       [ 8.81057377, -5.69150895],\n",
       "       [ 7.11595822, -6.20347922],\n",
       "       [ 7.99330297, -5.15742282],\n",
       "       [ 6.7847246 , -5.88666272],\n",
       "       [ 6.84583712, -6.51645654],\n",
       "       [ 7.65464071, -6.47931625],\n",
       "       [ 7.52723717, -5.96538177],\n",
       "       [ 5.93723279, -6.39752718],\n",
       "       [ 5.54595974, -6.31678236],\n",
       "       [ 5.95847118, -6.43013499],\n",
       "       [ 5.6568795 , -6.98930593],\n",
       "       [ 7.05651362, -5.86784916],\n",
       "       [ 6.60985312, -6.58325034],\n",
       "       [ 6.65087436, -6.49112369],\n",
       "       [ 5.70887701, -6.80238013],\n",
       "       [ 7.7395626 , -6.10110516],\n",
       "       [ 7.41686198, -5.90945822],\n",
       "       [ 6.91497665, -6.35241336],\n",
       "       [ 7.96877652, -5.66930937],\n",
       "       [ 6.17087028, -6.53016603],\n",
       "       [ 7.39341924, -5.96840912],\n",
       "       [ 7.33056035, -6.029123  ],\n",
       "       [ 7.33133183, -5.4215771 ],\n",
       "       [ 6.3081753 , -6.09411314],\n",
       "       [ 7.31006788, -5.84154025],\n",
       "       [ 6.51154039, -6.72994206],\n",
       "       [ 6.14955651, -6.9463605 ],\n",
       "       [ 5.85847957, -7.19422565],\n",
       "       [ 7.98455836, -4.65163439],\n",
       "       [ 6.19746686, -6.0167363 ],\n",
       "       [ 6.83595952, -5.98306557],\n",
       "       [ 5.85337198, -6.85020979],\n",
       "       [ 6.71812077, -6.52605203],\n",
       "       [ 3.93381972, -7.1712904 ],\n",
       "       [ 5.96881993, -5.91114427],\n",
       "       [ 5.64676384, -7.19343623],\n",
       "       [ 6.0376075 , -6.58484064],\n",
       "       [ 6.79767698, -6.1193901 ],\n",
       "       [ 6.691348  , -6.83358676],\n",
       "       [ 8.84461771, -4.88606794],\n",
       "       [ 6.4575683 , -6.38604674],\n",
       "       [ 6.76279855, -5.4369188 ],\n",
       "       [ 5.51121662, -6.79834085],\n",
       "       [ 6.54711504, -6.05823094],\n",
       "       [ 5.7306839 , -6.96353675],\n",
       "       [ 7.02874418, -6.20567903],\n",
       "       [ 7.80930917, -6.04889599],\n",
       "       [ 7.38350851, -5.6923063 ],\n",
       "       [ 6.3353333 , -5.84028049],\n",
       "       [ 5.45313119, -6.89503616],\n",
       "       [16.41398205, -7.40820488],\n",
       "       [15.52151974, -7.78865195],\n",
       "       [16.09686788, -7.78720105],\n",
       "       [17.13486291, -7.1369181 ],\n",
       "       [16.1141103 , -7.64487593],\n",
       "       [15.01636399, -8.57063524],\n",
       "       [15.18688047, -8.21144419],\n",
       "       [15.83884308, -8.17620221],\n",
       "       [15.8181675 , -8.39541113],\n",
       "       [15.17861557, -8.14315086],\n",
       "       [16.17139305, -7.90024334],\n",
       "       [17.20153441, -7.5314026 ],\n",
       "       [15.76171989, -8.00391349],\n",
       "       [15.80592781, -7.74095333],\n",
       "       [13.91145294, -8.79087205],\n",
       "       [15.26523235, -8.25854766],\n",
       "       [14.67822557, -8.48964166],\n",
       "       [15.63358564, -8.14494406],\n",
       "       [16.49861499, -8.04914902],\n",
       "       [17.44510012, -7.08267207],\n",
       "       [17.70620165, -6.74913013],\n",
       "       [15.88911385, -8.23600517],\n",
       "       [15.69623523, -7.46105653],\n",
       "       [16.77556404, -7.71692153],\n",
       "       [16.46500584, -7.87854658],\n",
       "       [16.72598099, -7.99114562],\n",
       "       [16.73834033, -7.94885205],\n",
       "       [14.59565921, -8.95731423],\n",
       "       [16.51263426, -7.64843616],\n",
       "       [15.91315846, -7.48027113],\n",
       "       [15.27876127, -8.13614539],\n",
       "       [15.34199759, -7.99381387],\n",
       "       [17.21569757, -6.99057647],\n",
       "       [15.23181545, -9.21525962],\n",
       "       [14.82665109, -8.58006764],\n",
       "       [16.20366945, -7.78606505],\n",
       "       [17.90758559, -6.90143016],\n",
       "       [16.02424306, -8.44540529],\n",
       "       [16.29247853, -8.2216643 ],\n",
       "       [15.10990054, -8.11917449],\n",
       "       [17.58830071, -7.33484225],\n",
       "       [16.11857419, -7.7539385 ],\n",
       "       [16.50289821, -8.11233394],\n",
       "       [15.09678878, -8.97260935],\n",
       "       [16.81021616, -7.37378607],\n",
       "       [16.36917606, -7.41873805],\n",
       "       [14.90332108, -7.91684084],\n",
       "       [16.03770079, -8.51890209],\n",
       "       [15.57252463, -8.6573566 ],\n",
       "       [16.1036417 , -8.46919811],\n",
       "       [15.7623047 , -8.12020789],\n",
       "       [15.81984347, -8.29525275],\n",
       "       [15.0200922 , -7.97608218],\n",
       "       [15.69329835, -8.64500741],\n",
       "       [16.72719122, -8.28593433],\n",
       "       [17.65514231, -7.19260607],\n",
       "       [14.89903413, -8.07226618],\n",
       "       [18.25541092, -7.27826447],\n",
       "       [17.44776467, -7.79901926],\n",
       "       [16.15986025, -7.98115768],\n",
       "       [15.7142504 , -8.69910641],\n",
       "       [15.33719836, -8.28851487],\n",
       "       [16.79003554, -7.35926646],\n",
       "       [15.3410396 , -8.21674932],\n",
       "       [15.56181932, -8.86222462],\n",
       "       [16.83827282, -7.81510879],\n",
       "       [16.41357296, -7.92178118],\n",
       "       [16.85072925, -6.98786445],\n",
       "       [16.47883084, -7.46735142],\n",
       "       [15.61967558, -8.18898866],\n",
       "       [15.51252097, -7.7589005 ],\n",
       "       [16.75550064, -8.02946467],\n",
       "       [15.3632531 , -8.40475373],\n",
       "       [17.12576361, -7.00582507],\n",
       "       [16.75012575, -7.14137327],\n",
       "       [16.27295658, -7.62334436],\n",
       "       [16.00306056, -7.82707131],\n",
       "       [16.34685492, -8.05075369],\n",
       "       [19.34570034, -6.25260296],\n",
       "       [15.89333322, -8.33693288],\n",
       "       [14.52328533, -8.45546349],\n",
       "       [17.81682556, -7.09398939],\n",
       "       [16.57855077, -7.34456149],\n",
       "       [15.38533706, -8.42206818],\n",
       "       [18.48302192, -6.67403832],\n",
       "       [16.52267746, -7.49040151],\n",
       "       [16.27910612, -8.19002812],\n",
       "       [15.26207258, -8.27334408],\n",
       "       [14.9897186 , -7.89060928],\n",
       "       [14.32233514, -8.70631957],\n",
       "       [15.5987833 , -8.28621472],\n",
       "       [15.00093931, -8.28437743],\n",
       "       [16.61451458, -7.82305847],\n",
       "       [15.69867144, -7.97899949],\n",
       "       [17.67821276, -7.30124195],\n",
       "       [17.43306429, -7.36949014],\n",
       "       [16.15559385, -7.76975384],\n",
       "       [15.73174679, -7.64295415],\n",
       "       [17.09304046, -7.35622756],\n",
       "       [14.91232736, -7.90713028],\n",
       "       [16.6391267 , -8.42506501],\n",
       "       [15.36522368, -8.43918432],\n",
       "       [15.62022054, -8.08628695],\n",
       "       [15.36267226, -8.57523571],\n",
       "       [16.54608963, -8.20337118],\n",
       "       [15.26183568, -8.11235575],\n",
       "       [14.99101725, -8.23423452],\n",
       "       [16.52460128, -7.66567537],\n",
       "       [15.59830013, -8.04032959],\n",
       "       [16.3430317 , -8.1518928 ],\n",
       "       [15.66616855, -8.32236286],\n",
       "       [16.25570877, -7.92364444],\n",
       "       [13.56714973, -9.32173388],\n",
       "       [16.44195752, -7.6875479 ],\n",
       "       [17.75844231, -6.39158054],\n",
       "       [16.98595644, -7.73038642],\n",
       "       [16.86415237, -7.38958248],\n",
       "       [15.77257093, -8.46271752],\n",
       "       [16.17170986, -7.45537227],\n",
       "       [16.23171547, -8.23582967],\n",
       "       [16.09144632, -7.8863896 ],\n",
       "       [15.21214841, -8.56641833],\n",
       "       [15.66582423, -7.96952038],\n",
       "       [15.83419384, -8.06972218],\n",
       "       [15.54401213, -8.21803983],\n",
       "       [16.79389301, -6.61614721],\n",
       "       [18.40808962, -7.15000395],\n",
       "       [14.7445749 , -8.57435589],\n",
       "       [16.12175426, -7.00789336],\n",
       "       [14.63163899, -9.0090469 ],\n",
       "       [17.23566778, -7.25748433],\n",
       "       [17.33755949, -7.78186215],\n",
       "       [14.42277325, -8.34067503],\n",
       "       [17.843941  , -7.06596528],\n",
       "       [14.97096469, -8.22936427],\n",
       "       [16.21517937, -8.00185539],\n",
       "       [17.04253578, -7.45093106],\n",
       "       [16.13963551, -7.42314472],\n",
       "       [18.17785981, -7.82744451],\n",
       "       [18.61130569, -7.41042295],\n",
       "       [16.13121972, -7.79643096],\n",
       "       [14.19079814, -9.03299884],\n",
       "       [15.65373724, -8.2574988 ],\n",
       "       [15.1954122 , -8.88092183],\n",
       "       [15.27449126, -8.63878112],\n",
       "       [14.93017476, -8.61678094],\n",
       "       [16.0741765 , -8.22077385],\n",
       "       [17.99852437, -7.41469267],\n",
       "       [15.32088753, -8.44930664],\n",
       "       [15.73387948, -8.44783472]])"
      ]
     },
     "execution_count": 14,
     "metadata": {},
     "output_type": "execute_result"
    }
   ],
   "source": [
    "X"
   ]
  },
  {
   "cell_type": "code",
   "execution_count": 15,
   "metadata": {},
   "outputs": [],
   "source": [
    "Y= df.values[:,2]"
   ]
  },
  {
   "cell_type": "code",
   "execution_count": 16,
   "metadata": {},
   "outputs": [
    {
     "data": {
      "text/plain": [
       "array([0., 0., 0., 0., 0., 0., 0., 0., 0., 0., 0., 0., 0., 0., 0., 0., 0.,\n",
       "       0., 0., 0., 0., 0., 0., 0., 0., 0., 0., 0., 0., 0., 0., 0., 0., 0.,\n",
       "       0., 0., 0., 0., 0., 0., 0., 0., 0., 0., 0., 0., 0., 0., 0., 0., 1.,\n",
       "       1., 1., 1., 1., 1., 1., 1., 1., 1., 1., 1., 1., 1., 1., 1., 1., 1.,\n",
       "       1., 1., 1., 1., 1., 1., 1., 1., 1., 1., 1., 1., 1., 1., 1., 1., 1.,\n",
       "       1., 1., 1., 1., 1., 1., 1., 1., 1., 1., 1., 1., 1., 1., 1., 0., 0.,\n",
       "       0., 0., 0., 0., 0., 0., 0., 0., 0., 0., 0., 0., 0., 0., 0., 0., 0.,\n",
       "       0., 0., 0., 0., 0., 0., 0., 0., 0., 0., 0., 0., 0., 0., 0., 0., 0.,\n",
       "       0., 0., 0., 0., 0., 0., 0., 0., 0., 0., 0., 0., 0., 0., 1., 1., 1.,\n",
       "       1., 1., 1., 1., 1., 1., 1., 1., 1., 1., 1., 1., 1., 1., 1., 1., 1.,\n",
       "       1., 1., 1., 1., 1., 1., 1., 1., 1., 1., 1., 1., 1., 1., 1., 1., 1.,\n",
       "       1., 1., 1., 1., 1., 1., 1., 1., 1., 1., 1., 1., 1., 1., 1., 1., 1.,\n",
       "       1., 1., 1., 1., 1., 1., 1., 1., 1., 1., 1., 1., 1., 1., 1., 1., 1.,\n",
       "       1., 1., 1., 1., 1., 1., 1., 1., 1., 1., 1., 1., 1., 1., 1., 1., 1.,\n",
       "       1., 1., 1., 1., 1., 1., 1., 1., 1., 1., 1., 1., 1., 1., 1., 1., 1.,\n",
       "       1., 1., 1., 1., 1., 1., 1., 1., 1., 1., 1., 1., 1., 1., 1., 1., 1.,\n",
       "       1., 1., 1., 1., 1., 1., 1., 1., 1., 1., 1., 1., 1., 1., 1., 1., 1.,\n",
       "       1., 1., 1., 1., 1., 1., 1., 1., 1., 1., 1., 0., 0., 0., 0., 0., 0.,\n",
       "       0., 0., 0., 0., 0., 0., 0., 0., 0., 0., 0., 0., 0., 0., 0., 0., 0.,\n",
       "       0., 0., 0., 0., 0., 0., 0., 0., 0., 0., 0., 0., 0., 0., 0., 0., 0.,\n",
       "       0., 0., 0., 0., 0., 0., 0., 0., 0., 0., 0., 0., 0., 0., 0., 0., 0.,\n",
       "       0., 0., 0., 0., 0., 0., 0., 0., 0., 0., 0., 0., 0., 0., 0., 0., 0.,\n",
       "       0., 0., 0., 0., 0., 0., 0., 0., 0., 0., 0., 0., 0., 0., 0., 0., 0.,\n",
       "       0., 0., 0., 0., 0., 0., 0., 0., 0., 0., 0., 0., 0., 0., 0., 0., 0.,\n",
       "       0., 0., 0., 0., 0., 0., 0., 0., 0., 0., 0., 0., 0., 0., 0., 0., 0.,\n",
       "       0., 0., 0., 0., 0., 0., 0., 0., 0., 0., 0., 0., 0., 0., 0., 0., 0.,\n",
       "       0., 0., 0., 0., 0., 0., 0., 0.])"
      ]
     },
     "execution_count": 16,
     "metadata": {},
     "output_type": "execute_result"
    }
   ],
   "source": [
    "Y"
   ]
  },
  {
   "cell_type": "code",
   "execution_count": 17,
   "metadata": {},
   "outputs": [],
   "source": [
    "from sklearn import tree\n",
    "from sklearn.tree import DecisionTreeClassifier\n",
    "from sklearn.metrics import confusion_matrix,classification_report\n"
   ]
  },
  {
   "cell_type": "code",
   "execution_count": 18,
   "metadata": {},
   "outputs": [],
   "source": [
    "from sklearn import tree\n",
    "from sklearn.tree import DecisionTreeClassifier"
   ]
  },
  {
   "cell_type": "code",
   "execution_count": null,
   "metadata": {},
   "outputs": [],
   "source": []
  },
  {
   "cell_type": "code",
   "execution_count": null,
   "metadata": {},
   "outputs": [],
   "source": []
  },
  {
   "cell_type": "raw",
   "metadata": {},
   "source": []
  },
  {
   "cell_type": "code",
   "execution_count": null,
   "metadata": {},
   "outputs": [],
   "source": []
  },
  {
   "cell_type": "code",
   "execution_count": null,
   "metadata": {},
   "outputs": [],
   "source": []
  },
  {
   "cell_type": "code",
   "execution_count": 83,
   "metadata": {},
   "outputs": [],
   "source": [
    "from sklearn.grid_search import GridSearchCV\n",
    "tree_para = {'criterion':['gini','entropy'],'max_depth':[4,5,6,8,12,20,30,50],\"min_samples_split\": [2, 10, 20],\"max_leaf_nodes\": [None, 5, 10, 20], 'min_samples_leaf':[3,5,6,7,8,9,20,30,50]}\n",
    "clf = GridSearchCV(DecisionTreeClassifier(), tree_para, cv=5)\n",
    "classified_data = clf.fit(X, Y)"
   ]
  },
  {
   "cell_type": "code",
   "execution_count": 84,
   "metadata": {},
   "outputs": [
    {
     "data": {
      "text/plain": [
       "{'criterion': 'gini',\n",
       " 'max_depth': 4,\n",
       " 'max_leaf_nodes': None,\n",
       " 'min_samples_leaf': 5,\n",
       " 'min_samples_split': 2}"
      ]
     },
     "execution_count": 84,
     "metadata": {},
     "output_type": "execute_result"
    }
   ],
   "source": [
    "clf.best_params_"
   ]
  },
  {
   "cell_type": "code",
   "execution_count": 85,
   "metadata": {},
   "outputs": [],
   "source": [
    "import graphviz"
   ]
  },
  {
   "cell_type": "code",
   "execution_count": 86,
   "metadata": {},
   "outputs": [
    {
     "data": {
      "text/plain": [
       "{'criterion': 'gini',\n",
       " 'max_depth': 4,\n",
       " 'max_leaf_nodes': None,\n",
       " 'min_samples_leaf': 5,\n",
       " 'min_samples_split': 2}"
      ]
     },
     "execution_count": 86,
     "metadata": {},
     "output_type": "execute_result"
    }
   ],
   "source": [
    "\n",
    "classified_data.best_params_\n"
   ]
  },
  {
   "cell_type": "code",
   "execution_count": 87,
   "metadata": {},
   "outputs": [
    {
     "data": {
      "text/plain": [
       "{'criterion': 'gini',\n",
       " 'max_depth': 4,\n",
       " 'max_leaf_nodes': None,\n",
       " 'min_samples_leaf': 3,\n",
       " 'min_samples_split': 2}"
      ]
     },
     "execution_count": 87,
     "metadata": {},
     "output_type": "execute_result"
    }
   ],
   "source": [
    "clf.grid_scores_[0].parameters"
   ]
  },
  {
   "cell_type": "code",
   "execution_count": 88,
   "metadata": {},
   "outputs": [
    {
     "data": {
      "text/plain": [
       "array([0.43333333, 0.83333333, 0.97777778, 1.        , 0.98888889])"
      ]
     },
     "execution_count": 88,
     "metadata": {},
     "output_type": "execute_result"
    }
   ],
   "source": [
    "clf.grid_scores_[0].cv_validation_scores"
   ]
  },
  {
   "cell_type": "code",
   "execution_count": 89,
   "metadata": {},
   "outputs": [],
   "source": [
    "clf_entropy = tree.DecisionTreeClassifier(\n",
    "                         criterion = \"gini\",max_depth=4,\n",
    "            random_state = 100, min_samples_leaf=5,min_samples_split=2)"
   ]
  },
  {
   "cell_type": "code",
   "execution_count": 90,
   "metadata": {},
   "outputs": [],
   "source": [
    "classified_data1=clf_entropy.fit(X,Y)"
   ]
  },
  {
   "cell_type": "code",
   "execution_count": 91,
   "metadata": {},
   "outputs": [],
   "source": [
    "import graphviz\n",
    "from sklearn import tree\n",
    "from sklearn.externals.six import StringIO "
   ]
  },
  {
   "cell_type": "code",
   "execution_count": 92,
   "metadata": {},
   "outputs": [],
   "source": [
    "data = tree.export_graphviz(classified_data1, out_file=None)"
   ]
  },
  {
   "cell_type": "code",
   "execution_count": 93,
   "metadata": {},
   "outputs": [],
   "source": [
    "graph = graphviz.Source(data) "
   ]
  },
  {
   "cell_type": "code",
   "execution_count": 94,
   "metadata": {},
   "outputs": [
    {
     "data": {
      "image/svg+xml": [
       "<?xml version=\"1.0\" encoding=\"UTF-8\" standalone=\"no\"?>\r\n",
       "<!DOCTYPE svg PUBLIC \"-//W3C//DTD SVG 1.1//EN\"\r\n",
       " \"http://www.w3.org/Graphics/SVG/1.1/DTD/svg11.dtd\">\r\n",
       "<!-- Generated by graphviz version 2.38.0 (20140413.2041)\r\n",
       " -->\r\n",
       "<!-- Title: Tree Pages: 1 -->\r\n",
       "<svg width=\"572pt\" height=\"477pt\"\r\n",
       " viewBox=\"0.00 0.00 572.00 477.00\" xmlns=\"http://www.w3.org/2000/svg\" xmlns:xlink=\"http://www.w3.org/1999/xlink\">\r\n",
       "<g id=\"graph0\" class=\"graph\" transform=\"scale(1 1) rotate(0) translate(4 473)\">\r\n",
       "<title>Tree</title>\r\n",
       "<polygon fill=\"white\" stroke=\"none\" points=\"-4,4 -4,-473 568,-473 568,4 -4,4\"/>\r\n",
       "<!-- 0 -->\r\n",
       "<g id=\"node1\" class=\"node\"><title>0</title>\r\n",
       "<polygon fill=\"none\" stroke=\"black\" points=\"399.5,-469 281.5,-469 281.5,-401 399.5,-401 399.5,-469\"/>\r\n",
       "<text text-anchor=\"middle\" x=\"340.5\" y=\"-453.8\" font-family=\"Times New Roman,serif\" font-size=\"14.00\">X[0] &lt;= 10.07</text>\r\n",
       "<text text-anchor=\"middle\" x=\"340.5\" y=\"-438.8\" font-family=\"Times New Roman,serif\" font-size=\"14.00\">gini = 0.494</text>\r\n",
       "<text text-anchor=\"middle\" x=\"340.5\" y=\"-423.8\" font-family=\"Times New Roman,serif\" font-size=\"14.00\">samples = 450</text>\r\n",
       "<text text-anchor=\"middle\" x=\"340.5\" y=\"-408.8\" font-family=\"Times New Roman,serif\" font-size=\"14.00\">value = [250, 200]</text>\r\n",
       "</g>\r\n",
       "<!-- 1 -->\r\n",
       "<g id=\"node2\" class=\"node\"><title>1</title>\r\n",
       "<polygon fill=\"none\" stroke=\"black\" points=\"333,-365 222,-365 222,-297 333,-297 333,-365\"/>\r\n",
       "<text text-anchor=\"middle\" x=\"277.5\" y=\"-349.8\" font-family=\"Times New Roman,serif\" font-size=\"14.00\">X[0] &lt;= 4.751</text>\r\n",
       "<text text-anchor=\"middle\" x=\"277.5\" y=\"-334.8\" font-family=\"Times New Roman,serif\" font-size=\"14.00\">gini = 0.325</text>\r\n",
       "<text text-anchor=\"middle\" x=\"277.5\" y=\"-319.8\" font-family=\"Times New Roman,serif\" font-size=\"14.00\">samples = 250</text>\r\n",
       "<text text-anchor=\"middle\" x=\"277.5\" y=\"-304.8\" font-family=\"Times New Roman,serif\" font-size=\"14.00\">value = [51, 199]</text>\r\n",
       "</g>\r\n",
       "<!-- 0&#45;&gt;1 -->\r\n",
       "<g id=\"edge1\" class=\"edge\"><title>0&#45;&gt;1</title>\r\n",
       "<path fill=\"none\" stroke=\"black\" d=\"M320.046,-400.884C314.764,-392.332 309.008,-383.013 303.486,-374.072\"/>\r\n",
       "<polygon fill=\"black\" stroke=\"black\" points=\"306.3,-371.968 298.067,-365.299 300.344,-375.647 306.3,-371.968\"/>\r\n",
       "<text text-anchor=\"middle\" x=\"292.317\" y=\"-385.929\" font-family=\"Times New Roman,serif\" font-size=\"14.00\">True</text>\r\n",
       "</g>\r\n",
       "<!-- 10 -->\r\n",
       "<g id=\"node11\" class=\"node\"><title>10</title>\r\n",
       "<polygon fill=\"none\" stroke=\"black\" points=\"455.5,-365 351.5,-365 351.5,-297 455.5,-297 455.5,-365\"/>\r\n",
       "<text text-anchor=\"middle\" x=\"403.5\" y=\"-349.8\" font-family=\"Times New Roman,serif\" font-size=\"14.00\">X[1] &lt;= &#45;1.236</text>\r\n",
       "<text text-anchor=\"middle\" x=\"403.5\" y=\"-334.8\" font-family=\"Times New Roman,serif\" font-size=\"14.00\">gini = 0.01</text>\r\n",
       "<text text-anchor=\"middle\" x=\"403.5\" y=\"-319.8\" font-family=\"Times New Roman,serif\" font-size=\"14.00\">samples = 200</text>\r\n",
       "<text text-anchor=\"middle\" x=\"403.5\" y=\"-304.8\" font-family=\"Times New Roman,serif\" font-size=\"14.00\">value = [199, 1]</text>\r\n",
       "</g>\r\n",
       "<!-- 0&#45;&gt;10 -->\r\n",
       "<g id=\"edge10\" class=\"edge\"><title>0&#45;&gt;10</title>\r\n",
       "<path fill=\"none\" stroke=\"black\" d=\"M360.954,-400.884C366.236,-392.332 371.992,-383.013 377.514,-374.072\"/>\r\n",
       "<polygon fill=\"black\" stroke=\"black\" points=\"380.656,-375.647 382.933,-365.299 374.7,-371.968 380.656,-375.647\"/>\r\n",
       "<text text-anchor=\"middle\" x=\"388.683\" y=\"-385.929\" font-family=\"Times New Roman,serif\" font-size=\"14.00\">False</text>\r\n",
       "</g>\r\n",
       "<!-- 2 -->\r\n",
       "<g id=\"node3\" class=\"node\"><title>2</title>\r\n",
       "<polygon fill=\"none\" stroke=\"black\" points=\"208,-261 107,-261 107,-193 208,-193 208,-261\"/>\r\n",
       "<text text-anchor=\"middle\" x=\"157.5\" y=\"-245.8\" font-family=\"Times New Roman,serif\" font-size=\"14.00\">X[1] &lt;= &#45;5.774</text>\r\n",
       "<text text-anchor=\"middle\" x=\"157.5\" y=\"-230.8\" font-family=\"Times New Roman,serif\" font-size=\"14.00\">gini = 0.041</text>\r\n",
       "<text text-anchor=\"middle\" x=\"157.5\" y=\"-215.8\" font-family=\"Times New Roman,serif\" font-size=\"14.00\">samples = 48</text>\r\n",
       "<text text-anchor=\"middle\" x=\"157.5\" y=\"-200.8\" font-family=\"Times New Roman,serif\" font-size=\"14.00\">value = [47, 1]</text>\r\n",
       "</g>\r\n",
       "<!-- 1&#45;&gt;2 -->\r\n",
       "<g id=\"edge2\" class=\"edge\"><title>1&#45;&gt;2</title>\r\n",
       "<path fill=\"none\" stroke=\"black\" d=\"M238.539,-296.884C227.641,-287.62 215.682,-277.455 204.377,-267.845\"/>\r\n",
       "<polygon fill=\"black\" stroke=\"black\" points=\"206.562,-265.109 196.676,-261.299 202.028,-270.443 206.562,-265.109\"/>\r\n",
       "</g>\r\n",
       "<!-- 5 -->\r\n",
       "<g id=\"node6\" class=\"node\"><title>5</title>\r\n",
       "<polygon fill=\"none\" stroke=\"black\" points=\"330.5,-261 226.5,-261 226.5,-193 330.5,-193 330.5,-261\"/>\r\n",
       "<text text-anchor=\"middle\" x=\"278.5\" y=\"-245.8\" font-family=\"Times New Roman,serif\" font-size=\"14.00\">X[1] &lt;= &#45;4.18</text>\r\n",
       "<text text-anchor=\"middle\" x=\"278.5\" y=\"-230.8\" font-family=\"Times New Roman,serif\" font-size=\"14.00\">gini = 0.039</text>\r\n",
       "<text text-anchor=\"middle\" x=\"278.5\" y=\"-215.8\" font-family=\"Times New Roman,serif\" font-size=\"14.00\">samples = 202</text>\r\n",
       "<text text-anchor=\"middle\" x=\"278.5\" y=\"-200.8\" font-family=\"Times New Roman,serif\" font-size=\"14.00\">value = [4, 198]</text>\r\n",
       "</g>\r\n",
       "<!-- 1&#45;&gt;5 -->\r\n",
       "<g id=\"edge5\" class=\"edge\"><title>1&#45;&gt;5</title>\r\n",
       "<path fill=\"none\" stroke=\"black\" d=\"M277.825,-296.884C277.904,-288.778 277.99,-279.982 278.074,-271.472\"/>\r\n",
       "<polygon fill=\"black\" stroke=\"black\" points=\"281.575,-271.333 278.174,-261.299 274.576,-271.265 281.575,-271.333\"/>\r\n",
       "</g>\r\n",
       "<!-- 3 -->\r\n",
       "<g id=\"node4\" class=\"node\"><title>3</title>\r\n",
       "<polygon fill=\"none\" stroke=\"black\" points=\"91,-149.5 0,-149.5 0,-96.5 91,-96.5 91,-149.5\"/>\r\n",
       "<text text-anchor=\"middle\" x=\"45.5\" y=\"-134.3\" font-family=\"Times New Roman,serif\" font-size=\"14.00\">gini = 0.32</text>\r\n",
       "<text text-anchor=\"middle\" x=\"45.5\" y=\"-119.3\" font-family=\"Times New Roman,serif\" font-size=\"14.00\">samples = 5</text>\r\n",
       "<text text-anchor=\"middle\" x=\"45.5\" y=\"-104.3\" font-family=\"Times New Roman,serif\" font-size=\"14.00\">value = [4, 1]</text>\r\n",
       "</g>\r\n",
       "<!-- 2&#45;&gt;3 -->\r\n",
       "<g id=\"edge3\" class=\"edge\"><title>2&#45;&gt;3</title>\r\n",
       "<path fill=\"none\" stroke=\"black\" d=\"M121.137,-192.884C108.336,-181.226 93.9681,-168.141 81.2209,-156.532\"/>\r\n",
       "<polygon fill=\"black\" stroke=\"black\" points=\"83.272,-153.666 73.5219,-149.52 78.5587,-158.841 83.272,-153.666\"/>\r\n",
       "</g>\r\n",
       "<!-- 4 -->\r\n",
       "<g id=\"node5\" class=\"node\"><title>4</title>\r\n",
       "<polygon fill=\"none\" stroke=\"black\" points=\"207.5,-149.5 109.5,-149.5 109.5,-96.5 207.5,-96.5 207.5,-149.5\"/>\r\n",
       "<text text-anchor=\"middle\" x=\"158.5\" y=\"-134.3\" font-family=\"Times New Roman,serif\" font-size=\"14.00\">gini = 0.0</text>\r\n",
       "<text text-anchor=\"middle\" x=\"158.5\" y=\"-119.3\" font-family=\"Times New Roman,serif\" font-size=\"14.00\">samples = 43</text>\r\n",
       "<text text-anchor=\"middle\" x=\"158.5\" y=\"-104.3\" font-family=\"Times New Roman,serif\" font-size=\"14.00\">value = [43, 0]</text>\r\n",
       "</g>\r\n",
       "<!-- 2&#45;&gt;4 -->\r\n",
       "<g id=\"edge4\" class=\"edge\"><title>2&#45;&gt;4</title>\r\n",
       "<path fill=\"none\" stroke=\"black\" d=\"M157.825,-192.884C157.928,-182.326 158.043,-170.597 158.148,-159.854\"/>\r\n",
       "<polygon fill=\"black\" stroke=\"black\" points=\"161.652,-159.554 158.25,-149.52 154.652,-159.485 161.652,-159.554\"/>\r\n",
       "</g>\r\n",
       "<!-- 6 -->\r\n",
       "<g id=\"node7\" class=\"node\"><title>6</title>\r\n",
       "<polygon fill=\"none\" stroke=\"black\" points=\"329.5,-149.5 225.5,-149.5 225.5,-96.5 329.5,-96.5 329.5,-149.5\"/>\r\n",
       "<text text-anchor=\"middle\" x=\"277.5\" y=\"-134.3\" font-family=\"Times New Roman,serif\" font-size=\"14.00\">gini = 0.0</text>\r\n",
       "<text text-anchor=\"middle\" x=\"277.5\" y=\"-119.3\" font-family=\"Times New Roman,serif\" font-size=\"14.00\">samples = 149</text>\r\n",
       "<text text-anchor=\"middle\" x=\"277.5\" y=\"-104.3\" font-family=\"Times New Roman,serif\" font-size=\"14.00\">value = [0, 149]</text>\r\n",
       "</g>\r\n",
       "<!-- 5&#45;&gt;6 -->\r\n",
       "<g id=\"edge6\" class=\"edge\"><title>5&#45;&gt;6</title>\r\n",
       "<path fill=\"none\" stroke=\"black\" d=\"M278.175,-192.884C278.072,-182.326 277.957,-170.597 277.852,-159.854\"/>\r\n",
       "<polygon fill=\"black\" stroke=\"black\" points=\"281.348,-159.485 277.75,-149.52 274.348,-159.554 281.348,-159.485\"/>\r\n",
       "</g>\r\n",
       "<!-- 7 -->\r\n",
       "<g id=\"node8\" class=\"node\"><title>7</title>\r\n",
       "<polygon fill=\"none\" stroke=\"black\" points=\"449,-157 348,-157 348,-89 449,-89 449,-157\"/>\r\n",
       "<text text-anchor=\"middle\" x=\"398.5\" y=\"-141.8\" font-family=\"Times New Roman,serif\" font-size=\"14.00\">X[1] &lt;= &#45;1.067</text>\r\n",
       "<text text-anchor=\"middle\" x=\"398.5\" y=\"-126.8\" font-family=\"Times New Roman,serif\" font-size=\"14.00\">gini = 0.14</text>\r\n",
       "<text text-anchor=\"middle\" x=\"398.5\" y=\"-111.8\" font-family=\"Times New Roman,serif\" font-size=\"14.00\">samples = 53</text>\r\n",
       "<text text-anchor=\"middle\" x=\"398.5\" y=\"-96.8\" font-family=\"Times New Roman,serif\" font-size=\"14.00\">value = [4, 49]</text>\r\n",
       "</g>\r\n",
       "<!-- 5&#45;&gt;7 -->\r\n",
       "<g id=\"edge7\" class=\"edge\"><title>5&#45;&gt;7</title>\r\n",
       "<path fill=\"none\" stroke=\"black\" d=\"M317.461,-192.884C328.359,-183.62 340.318,-173.455 351.623,-163.845\"/>\r\n",
       "<polygon fill=\"black\" stroke=\"black\" points=\"353.972,-166.443 359.324,-157.299 349.438,-161.109 353.972,-166.443\"/>\r\n",
       "</g>\r\n",
       "<!-- 8 -->\r\n",
       "<g id=\"node9\" class=\"node\"><title>8</title>\r\n",
       "<polygon fill=\"none\" stroke=\"black\" points=\"387,-53 296,-53 296,-0 387,-0 387,-53\"/>\r\n",
       "<text text-anchor=\"middle\" x=\"341.5\" y=\"-37.8\" font-family=\"Times New Roman,serif\" font-size=\"14.00\">gini = 0.32</text>\r\n",
       "<text text-anchor=\"middle\" x=\"341.5\" y=\"-22.8\" font-family=\"Times New Roman,serif\" font-size=\"14.00\">samples = 5</text>\r\n",
       "<text text-anchor=\"middle\" x=\"341.5\" y=\"-7.8\" font-family=\"Times New Roman,serif\" font-size=\"14.00\">value = [4, 1]</text>\r\n",
       "</g>\r\n",
       "<!-- 7&#45;&gt;8 -->\r\n",
       "<g id=\"edge8\" class=\"edge\"><title>7&#45;&gt;8</title>\r\n",
       "<path fill=\"none\" stroke=\"black\" d=\"M378.564,-88.9485C373.267,-80.1664 367.535,-70.6629 362.198,-61.815\"/>\r\n",
       "<polygon fill=\"black\" stroke=\"black\" points=\"365.186,-59.9919 357.024,-53.2367 359.192,-63.6074 365.186,-59.9919\"/>\r\n",
       "</g>\r\n",
       "<!-- 9 -->\r\n",
       "<g id=\"node10\" class=\"node\"><title>9</title>\r\n",
       "<polygon fill=\"none\" stroke=\"black\" points=\"503.5,-53 405.5,-53 405.5,-0 503.5,-0 503.5,-53\"/>\r\n",
       "<text text-anchor=\"middle\" x=\"454.5\" y=\"-37.8\" font-family=\"Times New Roman,serif\" font-size=\"14.00\">gini = 0.0</text>\r\n",
       "<text text-anchor=\"middle\" x=\"454.5\" y=\"-22.8\" font-family=\"Times New Roman,serif\" font-size=\"14.00\">samples = 48</text>\r\n",
       "<text text-anchor=\"middle\" x=\"454.5\" y=\"-7.8\" font-family=\"Times New Roman,serif\" font-size=\"14.00\">value = [0, 48]</text>\r\n",
       "</g>\r\n",
       "<!-- 7&#45;&gt;9 -->\r\n",
       "<g id=\"edge9\" class=\"edge\"><title>7&#45;&gt;9</title>\r\n",
       "<path fill=\"none\" stroke=\"black\" d=\"M418.086,-88.9485C423.236,-80.2579 428.805,-70.8608 434.001,-62.0917\"/>\r\n",
       "<polygon fill=\"black\" stroke=\"black\" points=\"437.162,-63.624 439.249,-53.2367 431.14,-60.0553 437.162,-63.624\"/>\r\n",
       "</g>\r\n",
       "<!-- 11 -->\r\n",
       "<g id=\"node12\" class=\"node\"><title>11</title>\r\n",
       "<polygon fill=\"none\" stroke=\"black\" points=\"454.5,-253.5 350.5,-253.5 350.5,-200.5 454.5,-200.5 454.5,-253.5\"/>\r\n",
       "<text text-anchor=\"middle\" x=\"402.5\" y=\"-238.3\" font-family=\"Times New Roman,serif\" font-size=\"14.00\">gini = 0.0</text>\r\n",
       "<text text-anchor=\"middle\" x=\"402.5\" y=\"-223.3\" font-family=\"Times New Roman,serif\" font-size=\"14.00\">samples = 195</text>\r\n",
       "<text text-anchor=\"middle\" x=\"402.5\" y=\"-208.3\" font-family=\"Times New Roman,serif\" font-size=\"14.00\">value = [195, 0]</text>\r\n",
       "</g>\r\n",
       "<!-- 10&#45;&gt;11 -->\r\n",
       "<g id=\"edge11\" class=\"edge\"><title>10&#45;&gt;11</title>\r\n",
       "<path fill=\"none\" stroke=\"black\" d=\"M403.175,-296.884C403.072,-286.326 402.957,-274.597 402.852,-263.854\"/>\r\n",
       "<polygon fill=\"black\" stroke=\"black\" points=\"406.348,-263.485 402.75,-253.52 399.348,-263.554 406.348,-263.485\"/>\r\n",
       "</g>\r\n",
       "<!-- 12 -->\r\n",
       "<g id=\"node13\" class=\"node\"><title>12</title>\r\n",
       "<polygon fill=\"none\" stroke=\"black\" points=\"564,-253.5 473,-253.5 473,-200.5 564,-200.5 564,-253.5\"/>\r\n",
       "<text text-anchor=\"middle\" x=\"518.5\" y=\"-238.3\" font-family=\"Times New Roman,serif\" font-size=\"14.00\">gini = 0.32</text>\r\n",
       "<text text-anchor=\"middle\" x=\"518.5\" y=\"-223.3\" font-family=\"Times New Roman,serif\" font-size=\"14.00\">samples = 5</text>\r\n",
       "<text text-anchor=\"middle\" x=\"518.5\" y=\"-208.3\" font-family=\"Times New Roman,serif\" font-size=\"14.00\">value = [4, 1]</text>\r\n",
       "</g>\r\n",
       "<!-- 10&#45;&gt;12 -->\r\n",
       "<g id=\"edge12\" class=\"edge\"><title>10&#45;&gt;12</title>\r\n",
       "<path fill=\"none\" stroke=\"black\" d=\"M440.837,-296.884C454.105,-285.116 469.012,-271.894 482.192,-260.203\"/>\r\n",
       "<polygon fill=\"black\" stroke=\"black\" points=\"484.569,-262.774 489.728,-253.52 479.924,-257.537 484.569,-262.774\"/>\r\n",
       "</g>\r\n",
       "</g>\r\n",
       "</svg>\r\n"
      ],
      "text/plain": [
       "<graphviz.files.Source at 0x1db8a254e48>"
      ]
     },
     "execution_count": 94,
     "metadata": {},
     "output_type": "execute_result"
    }
   ],
   "source": [
    "graph"
   ]
  },
  {
   "cell_type": "code",
   "execution_count": 95,
   "metadata": {},
   "outputs": [],
   "source": [
    "Z = clf_entropy.predict(X)"
   ]
  },
  {
   "cell_type": "code",
   "execution_count": 96,
   "metadata": {},
   "outputs": [],
   "source": [
    "from sklearn.metrics import accuracy_score,recall_score,precision_score\n"
   ]
  },
  {
   "cell_type": "code",
   "execution_count": 97,
   "metadata": {},
   "outputs": [
    {
     "data": {
      "text/plain": [
       "0.9933333333333333"
      ]
     },
     "execution_count": 97,
     "metadata": {},
     "output_type": "execute_result"
    }
   ],
   "source": [
    "accuracy_score(Y,Z )"
   ]
  },
  {
   "cell_type": "code",
   "execution_count": 98,
   "metadata": {},
   "outputs": [
    {
     "data": {
      "text/plain": [
       "array([0., 0., 0., 0., 0., 0., 0., 0., 0., 0., 0., 0., 0., 0., 0., 0., 0.,\n",
       "       0., 0., 0., 0., 0., 0., 0., 0., 0., 0., 0., 0., 0., 0., 0., 0., 0.,\n",
       "       0., 0., 0., 0., 0., 0., 0., 0., 0., 0., 0., 0., 0., 0., 0., 0., 1.,\n",
       "       1., 1., 1., 1., 1., 1., 1., 1., 1., 1., 1., 1., 1., 1., 1., 1., 1.,\n",
       "       1., 1., 1., 1., 1., 1., 1., 1., 1., 1., 1., 1., 1., 1., 1., 1., 1.,\n",
       "       1., 1., 1., 1., 1., 1., 1., 1., 1., 1., 1., 1., 1., 1., 1., 0., 0.,\n",
       "       0., 0., 0., 0., 0., 0., 0., 0., 0., 0., 0., 0., 0., 0., 0., 0., 0.,\n",
       "       0., 0., 0., 0., 0., 0., 0., 0., 0., 0., 0., 0., 0., 0., 0., 0., 0.,\n",
       "       0., 0., 0., 0., 0., 0., 0., 0., 0., 0., 0., 0., 0., 0., 1., 1., 1.,\n",
       "       1., 1., 1., 1., 1., 1., 1., 1., 1., 1., 1., 1., 1., 1., 1., 1., 1.,\n",
       "       1., 1., 1., 1., 1., 1., 1., 1., 1., 1., 1., 1., 1., 1., 1., 1., 1.,\n",
       "       1., 1., 1., 1., 1., 1., 1., 1., 1., 1., 1., 1., 1., 1., 1., 1., 1.,\n",
       "       1., 1., 1., 1., 1., 1., 1., 1., 1., 1., 1., 1., 1., 1., 1., 1., 1.,\n",
       "       1., 1., 1., 1., 1., 1., 1., 1., 1., 1., 1., 1., 1., 1., 1., 1., 1.,\n",
       "       1., 1., 1., 1., 1., 1., 1., 1., 1., 1., 1., 1., 1., 1., 1., 1., 1.,\n",
       "       1., 1., 1., 1., 1., 1., 1., 1., 1., 1., 1., 1., 1., 1., 1., 1., 1.,\n",
       "       1., 1., 1., 1., 1., 1., 1., 1., 1., 1., 1., 1., 1., 1., 1., 1., 1.,\n",
       "       1., 1., 1., 1., 1., 1., 1., 1., 1., 1., 1., 0., 0., 0., 0., 0., 0.,\n",
       "       0., 0., 0., 0., 0., 0., 0., 0., 0., 0., 0., 0., 0., 0., 0., 0., 0.,\n",
       "       0., 0., 0., 0., 0., 0., 0., 0., 0., 0., 0., 0., 0., 0., 0., 0., 0.,\n",
       "       0., 0., 0., 0., 0., 0., 0., 0., 0., 0., 0., 0., 0., 0., 0., 0., 0.,\n",
       "       0., 0., 0., 0., 0., 0., 0., 0., 0., 0., 0., 0., 0., 0., 0., 0., 0.,\n",
       "       0., 0., 0., 0., 0., 0., 0., 0., 0., 0., 0., 0., 0., 0., 0., 0., 0.,\n",
       "       0., 0., 0., 0., 0., 0., 0., 0., 0., 0., 0., 0., 0., 0., 0., 0., 0.,\n",
       "       0., 0., 0., 0., 0., 0., 0., 0., 0., 0., 0., 0., 0., 0., 0., 0., 0.,\n",
       "       0., 0., 0., 0., 0., 0., 0., 0., 0., 0., 0., 0., 0., 0., 0., 0., 0.,\n",
       "       0., 0., 0., 0., 0., 0., 0., 0.])"
      ]
     },
     "execution_count": 98,
     "metadata": {},
     "output_type": "execute_result"
    }
   ],
   "source": [
    "Y"
   ]
  },
  {
   "cell_type": "code",
   "execution_count": 99,
   "metadata": {},
   "outputs": [
    {
     "name": "stdout",
     "output_type": "stream",
     "text": [
      "             precision    recall  f1-score   support\n",
      "\n",
      "        0.0       0.99      1.00      0.99       250\n",
      "        1.0       1.00      0.98      0.99       200\n",
      "\n",
      "avg / total       0.99      0.99      0.99       450\n",
      "\n"
     ]
    }
   ],
   "source": [
    "print(classification_report(Y,Z))"
   ]
  },
  {
   "cell_type": "code",
   "execution_count": 100,
   "metadata": {},
   "outputs": [],
   "source": [
    "df1=pd.DataFrame(\n",
    "    confusion_matrix(Y, Z),\n",
    "    columns=['Predicted 1', 'Predicted 0'],\n",
    "    index=['True 1', 'True 0']\n",
    ")"
   ]
  },
  {
   "cell_type": "code",
   "execution_count": 37,
   "metadata": {},
   "outputs": [
    {
     "data": {
      "text/html": [
       "<div>\n",
       "<style scoped>\n",
       "    .dataframe tbody tr th:only-of-type {\n",
       "        vertical-align: middle;\n",
       "    }\n",
       "\n",
       "    .dataframe tbody tr th {\n",
       "        vertical-align: top;\n",
       "    }\n",
       "\n",
       "    .dataframe thead th {\n",
       "        text-align: right;\n",
       "    }\n",
       "</style>\n",
       "<table border=\"1\" class=\"dataframe\">\n",
       "  <thead>\n",
       "    <tr style=\"text-align: right;\">\n",
       "      <th></th>\n",
       "      <th>Predicted 1</th>\n",
       "      <th>Predicted 0</th>\n",
       "    </tr>\n",
       "  </thead>\n",
       "  <tbody>\n",
       "    <tr>\n",
       "      <th>True 1</th>\n",
       "      <td>250</td>\n",
       "      <td>0</td>\n",
       "    </tr>\n",
       "    <tr>\n",
       "      <th>True 0</th>\n",
       "      <td>3</td>\n",
       "      <td>197</td>\n",
       "    </tr>\n",
       "  </tbody>\n",
       "</table>\n",
       "</div>"
      ],
      "text/plain": [
       "        Predicted 1  Predicted 0\n",
       "True 1          250            0\n",
       "True 0            3          197"
      ]
     },
     "execution_count": 37,
     "metadata": {},
     "output_type": "execute_result"
    }
   ],
   "source": [
    "df1"
   ]
  },
  {
   "cell_type": "code",
   "execution_count": 38,
   "metadata": {},
   "outputs": [
    {
     "data": {
      "text/plain": [
       "0.9933333333333333"
      ]
     },
     "execution_count": 38,
     "metadata": {},
     "output_type": "execute_result"
    }
   ],
   "source": [
    "accuracy_score(Y, Z)"
   ]
  },
  {
   "cell_type": "code",
   "execution_count": 39,
   "metadata": {},
   "outputs": [],
   "source": [
    "x_min, x_max = X[:, 0].min() - 1, X[:, 0].max() + 1"
   ]
  },
  {
   "cell_type": "code",
   "execution_count": 40,
   "metadata": {},
   "outputs": [],
   "source": [
    "y_min, y_max = X[:, 1].min() - 1, X[:, 1].max() + 1"
   ]
  },
  {
   "cell_type": "code",
   "execution_count": 41,
   "metadata": {},
   "outputs": [],
   "source": [
    "xx, yy = np.meshgrid(np.arange(x_min, x_max, 0.1),\n",
    "                     np.arange(y_min, y_max, 0.1))"
   ]
  },
  {
   "cell_type": "code",
   "execution_count": 42,
   "metadata": {},
   "outputs": [
    {
     "data": {
      "image/png": "[encoded data removed]",
      "text/plain": [
       "<Figure size 720x576 with 1 Axes>"
      ]
     },
     "metadata": {},
     "output_type": "display_data"
    }
   ],
   "source": [
    "f, axarr = plt.subplots(1, 1, sharex='col', sharey='row', figsize=(10, 8))\n",
    "Z1 = clf_entropy.predict(np.c_[xx.ravel(), yy.ravel()])\n",
    "Z1 = Z1.reshape(xx.shape)\n",
    "plt.contourf(xx, yy, Z1, alpha=0.4)\n",
    "plt.scatter(X[:, 0], X[:, 1], c=df[2], s=20, edgecolor='k')\n",
    "plt.show()"
   ]
  },
  {
   "cell_type": "code",
   "execution_count": 101,
   "metadata": {},
   "outputs": [],
   "source": [
    "from sklearn import svm\n",
    "\n",
    "\n"
   ]
  },
  {
   "cell_type": "code",
   "execution_count": 102,
   "metadata": {},
   "outputs": [],
   "source": [
    "svm_para = {'kernel':['linear'],'C':[1,10,100,1000,10000]}"
   ]
  },
  {
   "cell_type": "code",
   "execution_count": 103,
   "metadata": {},
   "outputs": [],
   "source": [
    "clf2=GridSearchCV(svm.SVC(), svm_para, cv=5, scoring='accuracy')"
   ]
  },
  {
   "cell_type": "code",
   "execution_count": 104,
   "metadata": {},
   "outputs": [],
   "source": [
    "classified1 = clf2.fit(X,Y)"
   ]
  },
  {
   "cell_type": "code",
   "execution_count": 105,
   "metadata": {},
   "outputs": [
    {
     "data": {
      "text/plain": [
       "{'C': 10000, 'kernel': 'linear'}"
      ]
     },
     "execution_count": 105,
     "metadata": {},
     "output_type": "execute_result"
    }
   ],
   "source": [
    "classified1.best_params_"
   ]
  },
  {
   "cell_type": "code",
   "execution_count": 48,
   "metadata": {},
   "outputs": [],
   "source": [
    "svc=svm.SVC(C=10000, kernel='linear')"
   ]
  },
  {
   "cell_type": "code",
   "execution_count": 106,
   "metadata": {},
   "outputs": [],
   "source": [
    "clf3=svc.fit(X,Y)"
   ]
  },
  {
   "cell_type": "code",
   "execution_count": 50,
   "metadata": {},
   "outputs": [
    {
     "data": {
      "text/plain": [
       "array([[-0.35846263,  0.03512517]])"
      ]
     },
     "execution_count": 50,
     "metadata": {},
     "output_type": "execute_result"
    }
   ],
   "source": [
    "clf3.coef_"
   ]
  },
  {
   "cell_type": "code",
   "execution_count": null,
   "metadata": {},
   "outputs": [],
   "source": [
    "\n"
   ]
  },
  {
   "cell_type": "code",
   "execution_count": 51,
   "metadata": {},
   "outputs": [
    {
     "data": {
      "text/plain": [
       "{'criterion': 'gini', 'max_depth': 4, 'min_samples_leaf': 5}"
      ]
     },
     "execution_count": 51,
     "metadata": {},
     "output_type": "execute_result"
    }
   ],
   "source": [
    "clf.best_params_"
   ]
  },
  {
   "cell_type": "code",
   "execution_count": 108,
   "metadata": {},
   "outputs": [
    {
     "name": "stdout",
     "output_type": "stream",
     "text": [
      "Model with rank: 1\n",
      "Mean validation score: 0.787 (std: 0.263)\n",
      "Parameters: {'C': 10000, 'kernel': 'linear'}\n",
      "\n",
      "Model with rank: 2\n",
      "Mean validation score: 0.776 (std: 0.275)\n",
      "Parameters: {'C': 1, 'kernel': 'linear'}\n",
      "\n",
      "Model with rank: 3\n",
      "Mean validation score: 0.773 (std: 0.278)\n",
      "Parameters: {'C': 10, 'kernel': 'linear'}\n",
      "\n",
      "Model with rank: 4\n",
      "Mean validation score: 0.773 (std: 0.278)\n",
      "Parameters: {'C': 100, 'kernel': 'linear'}\n",
      "\n",
      "Model with rank: 5\n",
      "Mean validation score: 0.773 (std: 0.278)\n",
      "Parameters: {'C': 1000, 'kernel': 'linear'}\n",
      "\n"
     ]
    }
   ],
   "source": [
    "top_params = report(classified1.grid_scores_,5)"
   ]
  },
  {
   "cell_type": "code",
   "execution_count": 107,
   "metadata": {},
   "outputs": [],
   "source": [
    "from operator import itemgetter\n",
    "def report(grid_scores, n_top=5):\n",
    "    top_scores = sorted(grid_scores,\n",
    "                        key=itemgetter(1),\n",
    "                        reverse=True)[:n_top]\n",
    "    for i, score in enumerate(top_scores):\n",
    "        print(\"Model with rank: {0}\".format(i + 1))\n",
    "        print((\"Mean validation score: \"\n",
    "               \"{0:.3f} (std: {1:.3f})\").format(\n",
    "               score.mean_validation_score,\n",
    "               np.std(score.cv_validation_scores)))\n",
    "        print(\"Parameters: {0}\".format(score.parameters))\n",
    "        print(\"\")\n",
    "    return top_scores[0].parameters"
   ]
  },
  {
   "cell_type": "code",
   "execution_count": 109,
   "metadata": {},
   "outputs": [
    {
     "name": "stdout",
     "output_type": "stream",
     "text": [
      "Model with rank: 1\n",
      "Mean validation score: 0.880 (std: 0.223)\n",
      "Parameters: {'criterion': 'gini', 'max_depth': 4, 'max_leaf_nodes': None, 'min_samples_leaf': 5, 'min_samples_split': 2}\n",
      "\n",
      "Model with rank: 2\n",
      "Mean validation score: 0.880 (std: 0.223)\n",
      "Parameters: {'criterion': 'gini', 'max_depth': 4, 'max_leaf_nodes': None, 'min_samples_leaf': 5, 'min_samples_split': 10}\n",
      "\n",
      "Model with rank: 3\n",
      "Mean validation score: 0.880 (std: 0.223)\n",
      "Parameters: {'criterion': 'gini', 'max_depth': 4, 'max_leaf_nodes': None, 'min_samples_leaf': 5, 'min_samples_split': 20}\n",
      "\n",
      "Model with rank: 4\n",
      "Mean validation score: 0.880 (std: 0.223)\n",
      "Parameters: {'criterion': 'gini', 'max_depth': 4, 'max_leaf_nodes': None, 'min_samples_leaf': 6, 'min_samples_split': 2}\n",
      "\n",
      "Model with rank: 5\n",
      "Mean validation score: 0.880 (std: 0.223)\n",
      "Parameters: {'criterion': 'gini', 'max_depth': 4, 'max_leaf_nodes': 5, 'min_samples_leaf': 6, 'min_samples_split': 10}\n",
      "\n"
     ]
    }
   ],
   "source": [
    "top_params = report(clf.grid_scores_, 5)"
   ]
  },
  {
   "cell_type": "code",
   "execution_count": 151,
   "metadata": {},
   "outputs": [
    {
     "data": {
      "image/png": "[encoded data removed]",
      "text/plain": [
       "<Figure size 720x576 with 1 Axes>"
      ]
     },
     "metadata": {},
     "output_type": "display_data"
    }
   ],
   "source": [
    "fig = plt.figure(figsize=(10,8))\n",
    "plt.scatter(feature1, feature2, c=df[2], s=50)\n",
    "ax = plt.gca()\n",
    "xlim = ax.get_xlim()\n",
    "ylim = ax.get_ylim()\n",
    "xx = np.linspace(xlim[0], xlim[1], 30)\n",
    "yy = np.linspace(ylim[0], ylim[1], 30)\n",
    "YY, XX = np.meshgrid(yy, xx)\n",
    "xy = np.vstack([XX.ravel(), YY.ravel()]).T\n",
    "Z2 = svc.decision_function(xy).reshape(XX.shape)\n",
    "ax.contour(XX, YY, Z2, colors='k', levels=[-1, 0, 1], alpha=0.5,\n",
    "           linestyles=['--', '-', '--'])\n",
    "ax.scatter(svc.support_vectors_[:, 0], svc.support_vectors_[:, 1], s=100,\n",
    "           linewidth=1, facecolors='none', edgecolors='k')\n",
    "plt.show()\n"
   ]
  },
  {
   "cell_type": "code",
   "execution_count": 53,
   "metadata": {},
   "outputs": [
    {
     "data": {
      "text/plain": [
       "SVC(C=1, cache_size=200, class_weight=None, coef0=0.0,\n",
       "  decision_function_shape='ovr', degree=3, gamma='auto', kernel='linear',\n",
       "  max_iter=-1, probability=False, random_state=None, shrinking=True,\n",
       "  tol=0.001, verbose=False)"
      ]
     },
     "execution_count": 53,
     "metadata": {},
     "output_type": "execute_result"
    }
   ],
   "source": [
    "svc2=svm.SVC(C=1, kernel='linear')\n",
    "svc2.fit(X,Y)"
   ]
  },
  {
   "cell_type": "code",
   "execution_count": 60,
   "metadata": {},
   "outputs": [
    {
     "data": {
      "image/png": "[encoded data removed]",
      "text/plain": [
       "<Figure size 720x576 with 1 Axes>"
      ]
     },
     "metadata": {},
     "output_type": "display_data"
    }
   ],
   "source": [
    "import matplotlib.pyplot as plt\n",
    "fig = plt.figure(figsize=(10,8))\n",
    "plt.scatter(feature1, feature2, c=df[2], s=50, cmap=\"bwr_r\")\n",
    "ax = plt.gca()\n",
    "xlim = ax.get_xlim()\n",
    "ylim = ax.get_ylim()\n",
    "xx = np.linspace(xlim[0], xlim[1], 30)\n",
    "yy = np.linspace(ylim[0], ylim[1], 30)\n",
    "YY, XX = np.meshgrid(yy, xx)\n",
    "xy = np.vstack([XX.ravel(), YY.ravel()]).T\n",
    "Z3 = svc2.decision_function(xy).reshape(XX.shape)\n",
    "ax.contour(XX, YY, Z3, colors='k', levels=[-1, 0, 1], alpha=0.5,\n",
    "           linestyles=['--', '-', '--'])\n",
    "ax.scatter(svc2.support_vectors_[:, 0], svc2.support_vectors_[:, 1], s=100,\n",
    "           linewidth=1, facecolors='none', edgecolors='k')\n",
    "plt.show()"
   ]
  },
  {
   "cell_type": "code",
   "execution_count": 105,
   "metadata": {},
   "outputs": [],
   "source": [
    "a=svc.predict(X)"
   ]
  },
  {
   "cell_type": "code",
   "execution_count": 106,
   "metadata": {},
   "outputs": [
    {
     "data": {
      "text/plain": [
       "0.8844444444444445"
      ]
     },
     "execution_count": 106,
     "metadata": {},
     "output_type": "execute_result"
    }
   ],
   "source": [
    "accuracy_score(Y,a)"
   ]
  },
  {
   "cell_type": "code",
   "execution_count": 155,
   "metadata": {},
   "outputs": [
    {
     "name": "stdout",
     "output_type": "stream",
     "text": [
      "             precision    recall  f1-score   support\n",
      "\n",
      "        0.0       0.99      0.80      0.88       250\n",
      "        1.0       0.80      0.99      0.88       200\n",
      "\n",
      "avg / total       0.91      0.88      0.88       450\n",
      "\n"
     ]
    }
   ],
   "source": [
    "print(classification_report(Y,a))"
   ]
  },
  {
   "cell_type": "code",
   "execution_count": 109,
   "metadata": {},
   "outputs": [],
   "source": [
    "df3=pd.DataFrame(\n",
    "    confusion_matrix(Y, a),\n",
    "    columns=['Predicted 1', 'Predicted 0'],\n",
    " \t   index=['True 1', 'True 0']\n",
    ")"
   ]
  },
  {
   "cell_type": "code",
   "execution_count": 110,
   "metadata": {},
   "outputs": [
    {
     "data": {
      "text/html": [
       "<div>\n",
       "<style scoped>\n",
       "    .dataframe tbody tr th:only-of-type {\n",
       "        vertical-align: middle;\n",
       "    }\n",
       "\n",
       "    .dataframe tbody tr th {\n",
       "        vertical-align: top;\n",
       "    }\n",
       "\n",
       "    .dataframe thead th {\n",
       "        text-align: right;\n",
       "    }\n",
       "</style>\n",
       "<table border=\"1\" class=\"dataframe\">\n",
       "  <thead>\n",
       "    <tr style=\"text-align: right;\">\n",
       "      <th></th>\n",
       "      <th>Predicted 1</th>\n",
       "      <th>Predicted 0</th>\n",
       "    </tr>\n",
       "  </thead>\n",
       "  <tbody>\n",
       "    <tr>\n",
       "      <th>True 1</th>\n",
       "      <td>199</td>\n",
       "      <td>51</td>\n",
       "    </tr>\n",
       "    <tr>\n",
       "      <th>True 0</th>\n",
       "      <td>1</td>\n",
       "      <td>199</td>\n",
       "    </tr>\n",
       "  </tbody>\n",
       "</table>\n",
       "</div>"
      ],
      "text/plain": [
       "        Predicted 1  Predicted 0\n",
       "True 1          199           51\n",
       "True 0            1          199"
      ]
     },
     "execution_count": 110,
     "metadata": {},
     "output_type": "execute_result"
    }
   ],
   "source": [
    "df3"
   ]
  },
  {
   "cell_type": "code",
   "execution_count": 129,
   "metadata": {},
   "outputs": [],
   "source": [
    "C_range = np.logspace(-2, 10, 13)\n",
    "gamma_range = np.logspace(-9, 3, 13)\n",
    "param_grid = dict(gamma=gamma_range, C=C_range)\n",
    "\n",
    "grid = GridSearchCV(svm.SVC(), param_grid=param_grid, cv=5, scoring='accuracy')\n",
    "classified2=grid.fit(X, Y)"
   ]
  },
  {
   "cell_type": "code",
   "execution_count": 130,
   "metadata": {},
   "outputs": [
    {
     "name": "stdout",
     "output_type": "stream",
     "text": [
      "Model with rank: 1\n",
      "Mean validation score: 0.996 (std: 0.005)\n",
      "Parameters: {'C': 1.0, 'gamma': 1.0}\n",
      "\n",
      "Model with rank: 2\n",
      "Mean validation score: 0.996 (std: 0.005)\n",
      "Parameters: {'C': 10.0, 'gamma': 1.0}\n",
      "\n",
      "Model with rank: 3\n",
      "Mean validation score: 0.996 (std: 0.005)\n",
      "Parameters: {'C': 100.0, 'gamma': 1.0}\n",
      "\n",
      "Model with rank: 4\n",
      "Mean validation score: 0.996 (std: 0.005)\n",
      "Parameters: {'C': 1000.0, 'gamma': 1.0}\n",
      "\n",
      "Model with rank: 5\n",
      "Mean validation score: 0.996 (std: 0.005)\n",
      "Parameters: {'C': 10000.0, 'gamma': 1.0}\n",
      "\n"
     ]
    }
   ],
   "source": [
    "top_params = report(classified2.grid_scores_,5)"
   ]
  },
  {
   "cell_type": "code",
   "execution_count": 125,
   "metadata": {},
   "outputs": [
    {
     "data": {
      "text/plain": [
       "{'C': 1.0, 'gamma': 1.0}"
      ]
     },
     "execution_count": 125,
     "metadata": {},
     "output_type": "execute_result"
    }
   ],
   "source": [
    "classified2.best_params_"
   ]
  },
  {
   "cell_type": "code",
   "execution_count": 62,
   "metadata": {},
   "outputs": [],
   "source": [
    "C_2d_range = [1e-2, 1, 1e2]\n",
    "gamma_2d_range = [1e-1, 1, 1e1]\n",
    "classifiers = []\n",
    "for C in C_2d_range:\n",
    "    for gamma in gamma_2d_range:\n",
    "        svc1 = svm.SVC(C=1, gamma=1)\n",
    "        svc1.fit(X, Y)\n",
    "        classifiers.append((C, gamma, svc1))\n"
   ]
  },
  {
   "cell_type": "code",
   "execution_count": 63,
   "metadata": {},
   "outputs": [
    {
     "data": {
      "text/plain": [
       "<Figure size 576x432 with 0 Axes>"
      ]
     },
     "metadata": {},
     "output_type": "display_data"
    }
   ],
   "source": [
    "plt.figure(figsize=(8, 6))\n",
    "xx, yy = np.meshgrid(np.linspace(-3, 3, 200), np.linspace(-3, 3, 200))\n",
    "for (k, (C, gamma, svc1)) in enumerate(classifiers):\n",
    "    # evaluate decision function in a grid\n",
    "    Z4 = svc1.decision_function(np.c_[xx.ravel(), yy.ravel()])\n",
    "    Z4 = Z4.reshape(xx.shape)"
   ]
  },
  {
   "cell_type": "code",
   "execution_count": 64,
   "metadata": {},
   "outputs": [
    {
     "data": {
      "text/plain": [
       "(-3.0, 20.65492084087097, -10.233350377424502, 3.0)"
      ]
     },
     "execution_count": 64,
     "metadata": {},
     "output_type": "execute_result"
    },
    {
     "data": {
      "image/png": "[encoded data removed]",
      "text/plain": [
       "<Figure size 432x288 with 1 Axes>"
      ]
     },
     "metadata": {},
     "output_type": "display_data"
    }
   ],
   "source": [
    "plt.subplot(len(C_2d_range), len(gamma_2d_range), k + 1)\n",
    "plt.pcolormesh(xx, yy, -Z4, cmap=plt.cm.RdBu)\n",
    "plt.scatter(X[:, 0], X[:, 1], c=df[2], cmap=plt.cm.RdBu_r,\n",
    "                edgecolors='k')\n",
    "plt.xticks(())\n",
    "plt.yticks(())\n",
    "plt.axis('tight')\n",
    "\n"
   ]
  },
  {
   "cell_type": "code",
   "execution_count": 65,
   "metadata": {},
   "outputs": [
    {
     "data": {
      "image/png": "[encoded data removed]",
      "text/plain": [
       "<Figure size 720x576 with 1 Axes>"
      ]
     },
     "metadata": {},
     "output_type": "display_data"
    }
   ],
   "source": [
    "fig = plt.figure(figsize=(10,8))\n",
    "plt.scatter(feature1, feature2, c=df[2], s=50, cmap=\"bwr_r\")\n",
    "ax = plt.gca()\n",
    "xlim = ax.get_xlim()\n",
    "ylim = ax.get_ylim()\n",
    "xx = np.linspace(xlim[0], xlim[1], 30)\n",
    "yy = np.linspace(ylim[0], ylim[1], 30)\n",
    "YY, XX = np.meshgrid(yy, xx)\n",
    "xy = np.vstack([XX.ravel(), YY.ravel()]).T\n",
    "Z2 = svc1.decision_function(xy).reshape(XX.shape)\n",
    "ax.contour(XX, YY, Z2, colors='k', levels=[-1, 0, 1], alpha=0.5,\n",
    "           linestyles=['--', '-', '--'])\n",
    "ax.scatter(svc1.support_vectors_[:, 0], svc1.support_vectors_[:, 1], s=100,\n",
    "           linewidth=1, facecolors='none', edgecolors='k')\n",
    "plt.show()"
   ]
  },
  {
   "cell_type": "code",
   "execution_count": 139,
   "metadata": {},
   "outputs": [],
   "source": [
    "b=svc1.predict(X)"
   ]
  },
  {
   "cell_type": "code",
   "execution_count": 140,
   "metadata": {},
   "outputs": [
    {
     "data": {
      "text/plain": [
       "1.0"
      ]
     },
     "execution_count": 140,
     "metadata": {},
     "output_type": "execute_result"
    }
   ],
   "source": [
    "accuracy_score(Y,b)"
   ]
  },
  {
   "cell_type": "code",
   "execution_count": 142,
   "metadata": {},
   "outputs": [
    {
     "name": "stdout",
     "output_type": "stream",
     "text": [
      "             precision    recall  f1-score   support\n",
      "\n",
      "        0.0       1.00      1.00      1.00       250\n",
      "        1.0       1.00      1.00      1.00       200\n",
      "\n",
      "avg / total       1.00      1.00      1.00       450\n",
      "\n"
     ]
    }
   ],
   "source": [
    "print(classification_report(Y,b))"
   ]
  },
  {
   "cell_type": "code",
   "execution_count": 144,
   "metadata": {},
   "outputs": [],
   "source": [
    "df1=pd.DataFrame(\n",
    "    confusion_matrix(Y, b),\n",
    "    columns=['Predicted 1', 'Predicted 0'],\n",
    " \t   index=['True 1', 'True 0']\n",
    ")\n"
   ]
  },
  {
   "cell_type": "markdown",
   "metadata": {},
   "source": [
    "df1 "
   ]
  },
  {
   "cell_type": "code",
   "execution_count": 145,
   "metadata": {},
   "outputs": [
    {
     "data": {
      "text/html": [
       "<div>\n",
       "<style scoped>\n",
       "    .dataframe tbody tr th:only-of-type {\n",
       "        vertical-align: middle;\n",
       "    }\n",
       "\n",
       "    .dataframe tbody tr th {\n",
       "        vertical-align: top;\n",
       "    }\n",
       "\n",
       "    .dataframe thead th {\n",
       "        text-align: right;\n",
       "    }\n",
       "</style>\n",
       "<table border=\"1\" class=\"dataframe\">\n",
       "  <thead>\n",
       "    <tr style=\"text-align: right;\">\n",
       "      <th></th>\n",
       "      <th>Predicted 1</th>\n",
       "      <th>Predicted 0</th>\n",
       "    </tr>\n",
       "  </thead>\n",
       "  <tbody>\n",
       "    <tr>\n",
       "      <th>True 1</th>\n",
       "      <td>250</td>\n",
       "      <td>0</td>\n",
       "    </tr>\n",
       "    <tr>\n",
       "      <th>True 0</th>\n",
       "      <td>0</td>\n",
       "      <td>200</td>\n",
       "    </tr>\n",
       "  </tbody>\n",
       "</table>\n",
       "</div>"
      ],
      "text/plain": [
       "        Predicted 1  Predicted 0\n",
       "True 1          250            0\n",
       "True 0            0          200"
      ]
     },
     "execution_count": 145,
     "metadata": {},
     "output_type": "execute_result"
    }
   ],
   "source": [
    "df1"
   ]
  },
  {
   "cell_type": "code",
   "execution_count": null,
   "metadata": {},
   "outputs": [],
   "source": []
  }
 ],
 "metadata": {
  "kernelspec": {
   "display_name": "Python 3",
   "language": "python",
   "name": "python3"
  },
  "language_info": {
   "codemirror_mode": {
    "name": "ipython",
    "version": 3
   },
   "file_extension": ".py",
   "mimetype": "text/x-python",
   "name": "python",
   "nbconvert_exporter": "python",
   "pygments_lexer": "ipython3",
   "version": "3.6.5"
  }
 },
 "nbformat": 4,
 "nbformat_minor": 2
}
